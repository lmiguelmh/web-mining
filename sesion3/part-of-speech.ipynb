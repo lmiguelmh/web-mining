{
 "cells": [
  {
   "cell_type": "code",
   "execution_count": 4,
   "metadata": {
    "collapsed": true
   },
   "outputs": [
    {
     "name": "stdout",
     "output_type": "stream",
     "text": [
      "['Dedication TO LEON WERTH\\nI ask the indulgence of the children who may read this book for dedicating it to a grown-up.', 'I have a serious reason: he is the best friend I have in the world.', 'I have another reason: this grown-up understands everything, even books about children.', 'I have a third reason: he lives in France where he is hungry and cold.', 'He needs cheering up.', 'If all these reasons are not enough, I will dedicate the book to the child from whom this grown-up grew.', 'All grown-ups were once children-- although few of them remember it.', 'And so I correct my dedication: TO LEON WERTH WHEN HE WAS A LITTLE BOY']\n8\n"
     ]
    }
   ],
   "source": [
    "from nltk.tokenize import sent_tokenize\n",
    "\n",
    "f = open('incognito.txt', 'rU')\n",
    "corpus = f.read()\n",
    "sentences = sent_tokenize(corpus)\n",
    "print sentences\n",
    "print len(sentences)"
   ]
  },
  {
   "cell_type": "code",
   "execution_count": 6,
   "metadata": {},
   "outputs": [
    {
     "name": "stdout",
     "output_type": "stream",
     "text": [
      "8\n"
     ]
    }
   ],
   "source": [
    "print len(sentences)"
   ]
  },
  {
   "cell_type": "code",
   "execution_count": 9,
   "metadata": {},
   "outputs": [
    {
     "name": "stdout",
     "output_type": "stream",
     "text": [
      "[('Dedication', 'NN'), ('TO', 'NNP'), ('LEON', 'NNP'), ('WERTH', 'NNP'), ('I', 'PRP'), ('ask', 'VBP'), ('the', 'DT'), ('indulgence', 'NN'), ('of', 'IN'), ('the', 'DT'), ('children', 'NNS'), ('who', 'WP'), ('may', 'MD'), ('read', 'VB'), ('this', 'DT'), ('book', 'NN'), ('for', 'IN'), ('dedicating', 'VBG'), ('it', 'PRP'), ('to', 'TO'), ('a', 'DT'), ('grown-up', 'NN'), ('.', '.'), ('I', 'PRP'), ('have', 'VBP'), ('a', 'DT'), ('serious', 'JJ'), ('reason', 'NN'), (':', ':'), ('he', 'PRP'), ('is', 'VBZ'), ('the', 'DT'), ('best', 'JJS'), ('friend', 'NN'), ('I', 'PRP'), ('have', 'VBP'), ('in', 'IN'), ('the', 'DT'), ('world', 'NN'), ('.', '.'), ('I', 'PRP'), ('have', 'VBP'), ('another', 'DT'), ('reason', 'NN'), (':', ':'), ('this', 'DT'), ('grown-up', 'JJ'), ('understands', 'NNS'), ('everything', 'NN'), (',', ','), ('even', 'RB'), ('books', 'NNS'), ('about', 'IN'), ('children', 'NNS'), ('.', '.'), ('I', 'PRP'), ('have', 'VBP'), ('a', 'DT'), ('third', 'JJ'), ('reason', 'NN'), (':', ':'), ('he', 'PRP'), ('lives', 'VBZ'), ('in', 'IN'), ('France', 'NNP'), ('where', 'WRB'), ('he', 'PRP'), ('is', 'VBZ'), ('hungry', 'JJ'), ('and', 'CC'), ('cold', 'JJ'), ('.', '.'), ('He', 'PRP'), ('needs', 'VBZ'), ('cheering', 'VBG'), ('up', 'RP'), ('.', '.'), ('If', 'IN'), ('all', 'PDT'), ('these', 'DT'), ('reasons', 'NNS'), ('are', 'VBP'), ('not', 'RB'), ('enough', 'RB'), (',', ','), ('I', 'PRP'), ('will', 'MD'), ('dedicate', 'VB'), ('the', 'DT'), ('book', 'NN'), ('to', 'TO'), ('the', 'DT'), ('child', 'NN'), ('from', 'IN'), ('whom', 'WP'), ('this', 'DT'), ('grown-up', 'NN'), ('grew', 'VBD'), ('.', '.'), ('All', 'DT'), ('grown-ups', 'NNS'), ('were', 'VBD'), ('once', 'RB'), ('children', 'NNS'), ('--', ':'), ('although', 'IN'), ('few', 'JJ'), ('of', 'IN'), ('them', 'PRP'), ('remember', 'VB'), ('it', 'PRP'), ('.', '.'), ('And', 'CC'), ('so', 'RB'), ('I', 'PRP'), ('correct', 'VBP'), ('my', 'PRP$'), ('dedication', 'NN'), (':', ':'), ('TO', 'NNP'), ('LEON', 'NNP'), ('WERTH', 'NNP'), ('WHEN', 'NNP'), ('HE', 'NNP'), ('WAS', 'VBD'), ('A', 'DT'), ('LITTLE', 'JJ'), ('BOY', 'NNP')]\n"
     ]
    }
   ],
   "source": [
    "from nltk.tag import pos_tag\n",
    "from nltk.tokenize import word_tokenize\n",
    "\n",
    "tokens = word_tokenize(corpus)\n",
    "tagged_tokens = pos_tag(tokens)\n",
    "print tagged_tokens"
   ]
  },
  {
   "cell_type": "code",
   "execution_count": 11,
   "metadata": {},
   "outputs": [
    {
     "name": "stdout",
     "output_type": "stream",
     "text": [
      "[('Dedication', u'NOUN'), ('TO', u'NOUN'), ('LEON', u'NOUN'), ('WERTH', u'NOUN'), ('I', u'PRON'), ('ask', u'VERB'), ('the', u'DET'), ('indulgence', u'NOUN'), ('of', u'ADP'), ('the', u'DET'), ('children', u'NOUN'), ('who', u'PRON'), ('may', u'VERB'), ('read', u'VERB'), ('this', u'DET'), ('book', u'NOUN'), ('for', u'ADP'), ('dedicating', u'VERB'), ('it', u'PRON'), ('to', u'PRT'), ('a', u'DET'), ('grown-up', u'NOUN'), ('.', u'.'), ('I', u'PRON'), ('have', u'VERB'), ('a', u'DET'), ('serious', u'ADJ'), ('reason', u'NOUN'), (':', u'.'), ('he', u'PRON'), ('is', u'VERB'), ('the', u'DET'), ('best', u'ADJ'), ('friend', u'NOUN'), ('I', u'PRON'), ('have', u'VERB'), ('in', u'ADP'), ('the', u'DET'), ('world', u'NOUN'), ('.', u'.'), ('I', u'PRON'), ('have', u'VERB'), ('another', u'DET'), ('reason', u'NOUN'), (':', u'.'), ('this', u'DET'), ('grown-up', u'ADJ'), ('understands', u'NOUN'), ('everything', u'NOUN'), (',', u'.'), ('even', u'ADV'), ('books', u'NOUN'), ('about', u'ADP'), ('children', u'NOUN'), ('.', u'.'), ('I', u'PRON'), ('have', u'VERB'), ('a', u'DET'), ('third', u'ADJ'), ('reason', u'NOUN'), (':', u'.'), ('he', u'PRON'), ('lives', u'VERB'), ('in', u'ADP'), ('France', u'NOUN'), ('where', u'ADV'), ('he', u'PRON'), ('is', u'VERB'), ('hungry', u'ADJ'), ('and', u'CONJ'), ('cold', u'ADJ'), ('.', u'.'), ('He', u'PRON'), ('needs', u'VERB'), ('cheering', u'VERB'), ('up', u'PRT'), ('.', u'.'), ('If', u'ADP'), ('all', u'DET'), ('these', u'DET'), ('reasons', u'NOUN'), ('are', u'VERB'), ('not', u'ADV'), ('enough', u'ADV'), (',', u'.'), ('I', u'PRON'), ('will', u'VERB'), ('dedicate', u'VERB'), ('the', u'DET'), ('book', u'NOUN'), ('to', u'PRT'), ('the', u'DET'), ('child', u'NOUN'), ('from', u'ADP'), ('whom', u'PRON'), ('this', u'DET'), ('grown-up', u'NOUN'), ('grew', u'VERB'), ('.', u'.'), ('All', u'DET'), ('grown-ups', u'NOUN'), ('were', u'VERB'), ('once', u'ADV'), ('children', u'NOUN'), ('--', u'.'), ('although', u'ADP'), ('few', u'ADJ'), ('of', u'ADP'), ('them', u'PRON'), ('remember', u'VERB'), ('it', u'PRON'), ('.', u'.'), ('And', u'CONJ'), ('so', u'ADV'), ('I', u'PRON'), ('correct', u'VERB'), ('my', u'PRON'), ('dedication', u'NOUN'), (':', u'.'), ('TO', u'NOUN'), ('LEON', u'NOUN'), ('WERTH', u'NOUN'), ('WHEN', u'NOUN'), ('HE', u'NOUN'), ('WAS', u'VERB'), ('A', u'DET'), ('LITTLE', u'ADJ'), ('BOY', u'NOUN')]\n[('Dedication', u'UNK'), ('TO', u'UNK'), ('LEON', u'UNK'), ('WERTH', u'UNK'), ('I', u'UNK'), ('ask', u'UNK'), ('the', u'UNK'), ('indulgence', u'UNK'), ('of', u'UNK'), ('the', u'UNK'), ('children', u'UNK'), ('who', u'UNK'), ('may', u'UNK'), ('read', u'UNK'), ('this', u'UNK'), ('book', u'UNK'), ('for', u'UNK'), ('dedicating', u'UNK'), ('it', u'UNK'), ('to', u'UNK'), ('a', u'UNK'), ('grown-up', u'UNK'), ('.', u'UNK'), ('I', u'UNK'), ('have', u'UNK'), ('a', u'UNK'), ('serious', u'UNK'), ('reason', u'UNK'), (':', u'UNK'), ('he', u'UNK'), ('is', u'UNK'), ('the', u'UNK'), ('best', u'UNK'), ('friend', u'UNK'), ('I', u'UNK'), ('have', u'UNK'), ('in', u'UNK'), ('the', u'UNK'), ('world', u'UNK'), ('.', u'UNK'), ('I', u'UNK'), ('have', u'UNK'), ('another', u'UNK'), ('reason', u'UNK'), (':', u'UNK'), ('this', u'UNK'), ('grown-up', u'UNK'), ('understands', u'UNK'), ('everything', u'UNK'), (',', u'UNK'), ('even', u'UNK'), ('books', u'UNK'), ('about', u'UNK'), ('children', u'UNK'), ('.', u'UNK'), ('I', u'UNK'), ('have', u'UNK'), ('a', u'UNK'), ('third', u'UNK'), ('reason', u'UNK'), (':', u'UNK'), ('he', u'UNK'), ('lives', u'UNK'), ('in', u'UNK'), ('France', u'UNK'), ('where', u'UNK'), ('he', u'UNK'), ('is', u'UNK'), ('hungry', u'UNK'), ('and', u'UNK'), ('cold', u'UNK'), ('.', u'UNK'), ('He', u'UNK'), ('needs', u'UNK'), ('cheering', u'UNK'), ('up', u'UNK'), ('.', u'UNK'), ('If', u'UNK'), ('all', u'UNK'), ('these', u'UNK'), ('reasons', u'UNK'), ('are', u'UNK'), ('not', u'UNK'), ('enough', u'UNK'), (',', u'UNK'), ('I', u'UNK'), ('will', u'UNK'), ('dedicate', u'UNK'), ('the', u'UNK'), ('book', u'UNK'), ('to', u'UNK'), ('the', u'UNK'), ('child', u'UNK'), ('from', u'UNK'), ('whom', u'UNK'), ('this', u'UNK'), ('grown-up', u'UNK'), ('grew', u'UNK'), ('.', u'UNK'), ('All', u'UNK'), ('grown-ups', u'UNK'), ('were', u'UNK'), ('once', u'UNK'), ('children', u'UNK'), ('--', u'UNK'), ('although', u'UNK'), ('few', u'UNK'), ('of', u'UNK'), ('them', u'UNK'), ('remember', u'UNK'), ('it', u'UNK'), ('.', u'UNK'), ('And', u'UNK'), ('so', u'UNK'), ('I', u'UNK'), ('correct', u'UNK'), ('my', u'UNK'), ('dedication', u'UNK'), (':', u'UNK'), ('TO', u'UNK'), ('LEON', u'UNK'), ('WERTH', u'UNK'), ('WHEN', u'UNK'), ('HE', u'UNK'), ('WAS', u'UNK'), ('A', u'UNK'), ('LITTLE', u'UNK'), ('BOY', u'UNK')]\n[('Dedication', u'UNK'), ('TO', u'UNK'), ('LEON', u'UNK'), ('WERTH', u'UNK'), ('I', u'UNK'), ('ask', u'UNK'), ('the', u'UNK'), ('indulgence', u'UNK'), ('of', u'UNK'), ('the', u'UNK'), ('children', u'UNK'), ('who', u'UNK'), ('may', u'UNK'), ('read', u'UNK'), ('this', u'UNK'), ('book', u'UNK'), ('for', u'UNK'), ('dedicating', u'UNK'), ('it', u'UNK'), ('to', u'UNK'), ('a', u'UNK'), ('grown-up', u'UNK'), ('.', u'UNK'), ('I', u'UNK'), ('have', u'UNK'), ('a', u'UNK'), ('serious', u'UNK'), ('reason', u'UNK'), (':', u'UNK'), ('he', u'UNK'), ('is', u'UNK'), ('the', u'UNK'), ('best', u'UNK'), ('friend', u'UNK'), ('I', u'UNK'), ('have', u'UNK'), ('in', u'UNK'), ('the', u'UNK'), ('world', u'UNK'), ('.', u'UNK'), ('I', u'UNK'), ('have', u'UNK'), ('another', u'UNK'), ('reason', u'UNK'), (':', u'UNK'), ('this', u'UNK'), ('grown-up', u'UNK'), ('understands', u'UNK'), ('everything', u'UNK'), (',', u'UNK'), ('even', u'UNK'), ('books', u'UNK'), ('about', u'UNK'), ('children', u'UNK'), ('.', u'UNK'), ('I', u'UNK'), ('have', u'UNK'), ('a', u'UNK'), ('third', u'UNK'), ('reason', u'UNK'), (':', u'UNK'), ('he', u'UNK'), ('lives', u'UNK'), ('in', u'UNK'), ('France', u'UNK'), ('where', u'UNK'), ('he', u'UNK'), ('is', u'UNK'), ('hungry', u'UNK'), ('and', u'UNK'), ('cold', u'UNK'), ('.', u'UNK'), ('He', u'UNK'), ('needs', u'UNK'), ('cheering', u'UNK'), ('up', u'UNK'), ('.', u'UNK'), ('If', u'UNK'), ('all', u'UNK'), ('these', u'UNK'), ('reasons', u'UNK'), ('are', u'UNK'), ('not', u'UNK'), ('enough', u'UNK'), (',', u'UNK'), ('I', u'UNK'), ('will', u'UNK'), ('dedicate', u'UNK'), ('the', u'UNK'), ('book', u'UNK'), ('to', u'UNK'), ('the', u'UNK'), ('child', u'UNK'), ('from', u'UNK'), ('whom', u'UNK'), ('this', u'UNK'), ('grown-up', u'UNK'), ('grew', u'UNK'), ('.', u'UNK'), ('All', u'UNK'), ('grown-ups', u'UNK'), ('were', u'UNK'), ('once', u'UNK'), ('children', u'UNK'), ('--', u'UNK'), ('although', u'UNK'), ('few', u'UNK'), ('of', u'UNK'), ('them', u'UNK'), ('remember', u'UNK'), ('it', u'UNK'), ('.', u'UNK'), ('And', u'UNK'), ('so', u'UNK'), ('I', u'UNK'), ('correct', u'UNK'), ('my', u'UNK'), ('dedication', u'UNK'), (':', u'UNK'), ('TO', u'UNK'), ('LEON', u'UNK'), ('WERTH', u'UNK'), ('WHEN', u'UNK'), ('HE', u'UNK'), ('WAS', u'UNK'), ('A', u'UNK'), ('LITTLE', u'UNK'), ('BOY', u'UNK')]\n"
     ]
    }
   ],
   "source": [
    "print pos_tag(tokens, 'universal')\n",
    "print pos_tag(tokens, 'wsj')\n",
    "print pos_tag(tokens, 'brown')"
   ]
  },
  {
   "cell_type": "code",
   "execution_count": 15,
   "metadata": {},
   "outputs": [
    {
     "name": "stdout",
     "output_type": "stream",
     "text": [
      "NN -> Dedication = Noun, singular or mass\nNNP -> TO = Proper noun, singular\nNNP -> LEON = Proper noun, singular\nNNP -> WERTH = Proper noun, singular\nPRP -> I = Personal pronoun\nVBP -> ask = Verb, non-3rd person singular present\nDT -> the = Determiner\nNN -> indulgence = Noun, singular or mass\nIN -> of = Preposition or subordinating conjunction\nDT -> the = Determiner\nNNS -> children = Noun, plural\nWP -> who = Wh-pronoun\nMD -> may = Modal\nVB -> read = Verb, base form\nDT -> this = Determiner\nNN -> book = Noun, singular or mass\nIN -> for = Preposition or subordinating conjunction\nVBG -> dedicating = Verb, gerund or present participle\nPRP -> it = Personal pronoun\nTO -> to = to\nDT -> a = Determiner\nNN -> grown-up = Noun, singular or mass\n. -> .\nPRP -> I = Personal pronoun\nVBP -> have = Verb, non-3rd person singular present\nDT -> a = Determiner\nJJ -> serious = Adjective\nNN -> reason = Noun, singular or mass\n: -> :\nPRP -> he = Personal pronoun\nVBZ -> is = Verb, 3rd person singular present\nDT -> the = Determiner\nJJS -> best = Adjective, superlative\nNN -> friend = Noun, singular or mass\nPRP -> I = Personal pronoun\nVBP -> have = Verb, non-3rd person singular present\nIN -> in = Preposition or subordinating conjunction\nDT -> the = Determiner\nNN -> world = Noun, singular or mass\n. -> .\nPRP -> I = Personal pronoun\nVBP -> have = Verb, non-3rd person singular present\nDT -> another = Determiner\nNN -> reason = Noun, singular or mass\n: -> :\nDT -> this = Determiner\nJJ -> grown-up = Adjective\nNNS -> understands = Noun, plural\nNN -> everything = Noun, singular or mass\n, -> ,\nRB -> even = Adverb\nNNS -> books = Noun, plural\nIN -> about = Preposition or subordinating conjunction\nNNS -> children = Noun, plural\n. -> .\nPRP -> I = Personal pronoun\nVBP -> have = Verb, non-3rd person singular present\nDT -> a = Determiner\nJJ -> third = Adjective\nNN -> reason = Noun, singular or mass\n: -> :\nPRP -> he = Personal pronoun\nVBZ -> lives = Verb, 3rd person singular present\nIN -> in = Preposition or subordinating conjunction\nNNP -> France = Proper noun, singular\nWRB -> where = Wh-adverb\nPRP -> he = Personal pronoun\nVBZ -> is = Verb, 3rd person singular present\nJJ -> hungry = Adjective\nCC -> and = Coordinating conjunction\nJJ -> cold = Adjective\n. -> .\nPRP -> He = Personal pronoun\nVBZ -> needs = Verb, 3rd person singular present\nVBG -> cheering = Verb, gerund or present participle\nRP -> up = Particle\n. -> .\nIN -> If = Preposition or subordinating conjunction\nPDT -> all = Predeterminer\nDT -> these = Determiner\nNNS -> reasons = Noun, plural\nVBP -> are = Verb, non-3rd person singular present\nRB -> not = Adverb\nRB -> enough = Adverb\n, -> ,\nPRP -> I = Personal pronoun\nMD -> will = Modal\nVB -> dedicate = Verb, base form\nDT -> the = Determiner\nNN -> book = Noun, singular or mass\nTO -> to = to\nDT -> the = Determiner\nNN -> child = Noun, singular or mass\nIN -> from = Preposition or subordinating conjunction\nWP -> whom = Wh-pronoun\nDT -> this = Determiner\nNN -> grown-up = Noun, singular or mass\nVBD -> grew = Verb, past tense\n. -> .\nDT -> All = Determiner\nNNS -> grown-ups = Noun, plural\nVBD -> were = Verb, past tense\nRB -> once = Adverb\nNNS -> children = Noun, plural\n: -> --\nIN -> although = Preposition or subordinating conjunction\nJJ -> few = Adjective\nIN -> of = Preposition or subordinating conjunction\nPRP -> them = Personal pronoun\nVB -> remember = Verb, base form\nPRP -> it = Personal pronoun\n. -> .\nCC -> And = Coordinating conjunction\nRB -> so = Adverb\nPRP -> I = Personal pronoun\nVBP -> correct = Verb, non-3rd person singular present\nPRP$ -> my = Possessive pronoun\nNN -> dedication = Noun, singular or mass\n: -> :\nNNP -> TO = Proper noun, singular\nNNP -> LEON = Proper noun, singular\nNNP -> WERTH = Proper noun, singular\nNNP -> WHEN = Proper noun, singular\nNNP -> HE = Proper noun, singular\nVBD -> WAS = Verb, past tense\nDT -> A = Determiner\nJJ -> LITTLE = Adjective\nNNP -> BOY = Proper noun, singular\n"
     ]
    }
   ],
   "source": [
    "tags = {\n",
    "    \"CC\": \"Coordinating conjunction\",\n",
    "    \"CD\": \"Cardinal number\",\n",
    "    \"DT\": \"Determiner\",\n",
    "    \"EX\": \"Existential there\",\n",
    "    \"FW\": \"Foreign word\",\n",
    "    \"IN\": \"Preposition or subordinating conjunction\",\n",
    "    \"JJ\": \"Adjective\",\n",
    "    \"JJR\": \"Adjective, comparative\",\n",
    "    \"JJS\": \"Adjective, superlative\",\n",
    "    \"NN\": \"Noun, singular or mass\",\n",
    "    \"NNS\": \"Noun, plural\",\n",
    "    \"NNP\": \"Proper noun, singular\",\n",
    "    \"NNPS\": \"Proper noun, plural\",\n",
    "    \"PDT\": \"Predeterminer\",\n",
    "    \"POS\": \"Possessive ending\",\n",
    "    \"PRP\": \"Personal pronoun\",\n",
    "    \"LS\": \"List item marker\",\n",
    "    \"MD\": \"Modal\",\n",
    "    \"RB\": \"Adverb\",\n",
    "    \"RBR\": \"Adverb, comparative\",\n",
    "    \"RBS\": \"Adverb, superlative\",\n",
    "    \"RP\": \"Particle\",\n",
    "    \"SYM\": \"Symbol\",\n",
    "    \"TO\": \"to\",\n",
    "    \"UH\": \"Interjection\",\n",
    "    \"VB\": \"Verb, base form\",\n",
    "    \"VBD\": \"Verb, past tense\",\n",
    "    \"VBG\": \"Verb, gerund or present participle\",\n",
    "    \"VBN\": \"Verb, past participle\",\n",
    "    \"VBP\": \"Verb, non-3rd person singular present\",\n",
    "    \"VBZ\": \"Verb, 3rd person singular present\",\n",
    "    \"WDT\": \"Wh-determiner\",\n",
    "    \"WP\": \"Wh-pronoun\",\n",
    "    \"WRB\": \"Wh-adverb\",\n",
    "    \"PRP$\": \"Possessive pronoun\",\n",
    "    \"WP$\": \"Possessive wh-pronoun\"\n",
    "}\n",
    "\n",
    "for sentence in sentences:\n",
    "    words = word_tokenize(sentence)\n",
    "    for word, tag in pos_tag(words):\n",
    "        if tag in tags:\n",
    "            print tag, '->', word, \"=\", tags[tag]\n",
    "        else:\n",
    "            print tag, '->', word"
   ]
  },
  {
   "cell_type": "code",
   "execution_count": 12,
   "metadata": {},
   "outputs": [],
   "source": [
    "from nltk.tag import pos_tag\n",
    "from nltk.tag import PerceptronTagger\n",
    "from nltk.tag import BrillTagger\n",
    "from nltk.tag import UnigramTagger\n",
    "from nltk.tag import BigramTagger"
   ]
  },
  {
   "cell_type": "code",
   "execution_count": 13,
   "metadata": {},
   "outputs": [
    {
     "name": "stdout",
     "output_type": "stream",
     "text": [
      "['Dedication', 'TO', 'LEON', 'WERTH', 'I', 'ask', 'indulgence', 'of', 'children', 'who', 'may', 'read', 'book', 'for', 'dedicating', 'it', 'to', 'grown-up', '.', 'I', 'have', 'serious', 'reason', ':', 'he', 'is', 'best', 'friend', 'I', 'have', 'in', 'world', '.', 'I', 'have', 'reason', ':', 'grown-up', 'understands', 'everything', ',', 'even', 'books', 'about', 'children', '.', 'I', 'have', 'third', 'reason', ':', 'he', 'lives', 'in', 'France', 'where', 'he', 'is', 'hungry', 'cold', '.', 'He', 'needs', 'cheering', 'up', '.', 'If', 'all', 'reasons', 'are', 'not', 'enough', ',', 'I', 'will', 'dedicate', 'book', 'to', 'child', 'from', 'whom', 'grown-up', 'grew', '.', 'grown-ups', 'were', 'once', 'children', '--', 'although', 'few', 'of', 'them', 'remember', 'it', '.', 'so', 'I', 'correct', 'my', 'dedication', ':', 'TO', 'LEON', 'WERTH', 'WHEN', 'HE', 'WAS', 'LITTLE', 'BOY']\n"
     ]
    }
   ],
   "source": [
    "stopword_tags = {\n",
    "    \"CC\": \"Coordinating conjunction\",\n",
    "    \"CD\": \"Cardinal number\",\n",
    "    \"DT\": \"Determiner\"\n",
    "}\n",
    "\n",
    "corpus_without_sw = []\n",
    "for sentence in sentences:\n",
    "    words = word_tokenize(sentence)\n",
    "    for word, tag in pos_tag(words):\n",
    "        if tag not in stopword_tags:\n",
    "            corpus_without_sw.append(word)\n",
    "print corpus_without_sw"
   ]
  }
 ],
 "metadata": {
  "kernelspec": {
   "display_name": "Python 2",
   "language": "python",
   "name": "python2"
  },
  "language_info": {
   "codemirror_mode": {
    "name": "ipython",
    "version": 2.0
   },
   "file_extension": ".py",
   "mimetype": "text/x-python",
   "name": "python",
   "nbconvert_exporter": "python",
   "pygments_lexer": "ipython2",
   "version": "2.7.6"
  }
 },
 "nbformat": 4,
 "nbformat_minor": 0
}