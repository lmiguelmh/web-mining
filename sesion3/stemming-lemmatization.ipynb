{
 "cells": [
  {
   "cell_type": "code",
   "execution_count": 2,
   "metadata": {
    "collapsed": true
   },
   "outputs": [
    {
     "name": "stdout",
     "output_type": "stream",
     "text": [
      "ok\n"
     ]
    }
   ],
   "source": [
    "import nltk\n",
    "from nltk.stem import PorterStemmer, WordNetLemmatizer\n",
    "stemmer = PorterStemmer()\n",
    "lemmatiser = WordNetLemmatizer()\n",
    "lancaster = nltk.stem.lancaster.LancasterStemmer()\n",
    "snowball = nltk.SnowballStemmer('english')\n",
    "print(\"ok\")"
   ]
  },
  {
   "cell_type": "code",
   "execution_count": 10,
   "metadata": {},
   "outputs": [
    {
     "name": "stdout",
     "output_type": "stream",
     "text": [
      "studi\nstudying\n"
     ]
    }
   ],
   "source": [
    "print stemmer.stem(\"studying\")\n",
    "print lemmatiser.lemmatize(\"studying\")"
   ]
  },
  {
   "cell_type": "code",
   "execution_count": 11,
   "metadata": {},
   "outputs": [
    {
     "name": "stdout",
     "output_type": "stream",
     "text": [
      "feet\n"
     ]
    }
   ],
   "source": [
    "print stemmer.stem(\"feet\")"
   ]
  },
  {
   "cell_type": "code",
   "execution_count": 12,
   "metadata": {},
   "outputs": [
    {
     "name": "stdout",
     "output_type": "stream",
     "text": [
      "foot\n"
     ]
    }
   ],
   "source": [
    "print stemmer.stem(\"foots\")"
   ]
  },
  {
   "cell_type": "code",
   "execution_count": 15,
   "metadata": {},
   "outputs": [
    {
     "name": "stdout",
     "output_type": "stream",
     "text": [
      "foot\nfoot\nfoot\n"
     ]
    }
   ],
   "source": [
    "words = [\"feet\", \"foot\", \"foots\"]\n",
    "for word in words:\n",
    "    print lemmatiser.lemmatize(word)"
   ]
  },
  {
   "cell_type": "code",
   "execution_count": 16,
   "metadata": {},
   "outputs": [
    {
     "name": "stdout",
     "output_type": "stream",
     "text": [
      "car'\n"
     ]
    }
   ],
   "source": [
    "print stemmer.stem(\"car's\")"
   ]
  },
  {
   "cell_type": "code",
   "execution_count": 17,
   "metadata": {},
   "outputs": [
    {
     "name": "stdout",
     "output_type": "stream",
     "text": [
      "car's\n"
     ]
    }
   ],
   "source": [
    "lancaster = nltk.stem.lancaster.LancasterStemmer()\n",
    "print lancaster.stem(\"car's\")"
   ]
  },
  {
   "cell_type": "code",
   "execution_count": 18,
   "metadata": {},
   "outputs": [
    {
     "name": "stdout",
     "output_type": "stream",
     "text": [
      "car\n"
     ]
    }
   ],
   "source": [
    "snowball = nltk.SnowballStemmer('english')\n",
    "print snowball.stem(\"car's\")"
   ]
  },
  {
   "cell_type": "code",
   "execution_count": 3,
   "metadata": {},
   "outputs": [
    {
     "name": "stdout",
     "output_type": "stream",
     "text": [
      "oper\noperate\noper\noperating\noper\noperates\noper\noperation\noper\noperative\noper\noperative\noper\noperational\n"
     ]
    }
   ],
   "source": [
    "words = [\"operate\", \"operating\", \"operates\", \"operation\", \"operative\", \"operatives\", \"operational\"]\n",
    "for word in words:\n",
    "    print stemmer.stem(\"\"+word)\n",
    "    print lemmatiser.lemmatize(\"\"+word)"
   ]
  },
  {
   "cell_type": "code",
   "execution_count": 9,
   "metadata": {},
   "outputs": [
    {
     "name": "stdout",
     "output_type": "stream",
     "text": [
      "car'\ncar's\ncar's\ncar\n"
     ]
    }
   ],
   "source": [
    "word = \"car's\" \n",
    "print stemmer.stem(word)\n",
    "print lemmatiser.lemmatize(word)\n",
    "print lancaster.stem(word)\n",
    "print snowball.stem(word)"
   ]
  },
  {
   "cell_type": "code",
   "execution_count": 10,
   "metadata": {},
   "outputs": [
    {
     "name": "stdout",
     "output_type": "stream",
     "text": [
      "are\nbe\n"
     ]
    }
   ],
   "source": [
    "print lemmatiser.lemmatize(\"are\")\n",
    "print lemmatiser.lemmatize(\"are\", pos='v')"
   ]
  },
  {
   "cell_type": "code",
   "execution_count": 5,
   "metadata": {},
   "outputs": [
    {
     "name": "stdout",
     "output_type": "stream",
     "text": [
      "be\nbe\nbe\nbe\nwill\nwould\n"
     ]
    }
   ],
   "source": [
    "be = [\"is\", \"was\", \"are\", \"were\"]\n",
    "for w in be:\n",
    "    print lemmatiser.lemmatize(w, pos='v')"
   ]
  },
  {
   "cell_type": "code",
   "execution_count": 9,
   "metadata": {},
   "outputs": [
    {
     "name": "stdout",
     "output_type": "stream",
     "text": [
      "showing info https://raw.githubusercontent.com/nltk/nltk_data/gh-pages/index.xml\n"
     ]
    },
    {
     "data": {
      "text/plain": [
       "True"
      ]
     },
     "execution_count": 9,
     "metadata": {},
     "output_type": "execute_result"
    }
   ],
   "source": [
    "nltk.download()"
   ]
  },
  {
   "cell_type": "code",
   "execution_count": null,
   "metadata": {},
   "outputs": [],
   "source": [
    ""
   ]
  },
  {
   "cell_type": "code",
   "execution_count": null,
   "metadata": {},
   "outputs": [],
   "source": [
    ""
   ]
  },
  {
   "cell_type": "code",
   "execution_count": null,
   "metadata": {},
   "outputs": [],
   "source": [
    ""
   ]
  },
  {
   "cell_type": "code",
   "execution_count": null,
   "metadata": {},
   "outputs": [],
   "source": [
    ""
   ]
  }
 ],
 "metadata": {
  "kernelspec": {
   "display_name": "Python 2",
   "language": "python",
   "name": "python2"
  },
  "language_info": {
   "codemirror_mode": {
    "name": "ipython",
    "version": 2.0
   },
   "file_extension": ".py",
   "mimetype": "text/x-python",
   "name": "python",
   "nbconvert_exporter": "python",
   "pygments_lexer": "ipython2",
   "version": "2.7.6"
  }
 },
 "nbformat": 4,
 "nbformat_minor": 0
}