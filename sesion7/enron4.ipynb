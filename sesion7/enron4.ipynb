{
 "cells": [
  {
   "cell_type": "markdown",
   "metadata": {},
   "source": [
    "### Enron4 Database from http://www.aueb.gr/users/ion/data/enron-spam/"
   ]
  },
  {
   "cell_type": "code",
   "execution_count": 43,
   "metadata": {},
   "outputs": [
    {
     "name": "stdout",
     "output_type": "stream",
     "text": [
      "number of spam files: 4500\nnumber of ham files: 1500\n"
     ]
    }
   ],
   "source": [
    "import os\n",
    "\n",
    "dir = 'enron4/spam'\n",
    "spam_files = [os.path.join(dir, f) for f in os.listdir(dir) if os.path.isfile(os.path.join(dir, f))]\n",
    "print(\"number of spam files: %d\" % len(spam_files))\n",
    "\n",
    "dir = 'enron4/ham'\n",
    "ham_files = [os.path.join(dir, f) for f in os.listdir(dir) if os.path.isfile(os.path.join(dir, f))]\n",
    "print(\"number of ham files: %d\" % len(ham_files))"
   ]
  },
  {
   "cell_type": "code",
   "execution_count": 46,
   "metadata": {},
   "outputs": [
    {
     "name": "stdout",
     "output_type": "stream",
     "text": [
      "     class                                            message\n0     spam  Subject: re : online auction report r 3 move m...\n1     spam  Subject: welcome members to be removed from ou...\n2     spam  Subject: watch and learn hey bradley , last we...\n3     spam  Subject: ehh , u have small penls , help ursel...\n4     spam  Subject: re : [ toweling ] 65 % off vicodin . ...\n5     spam  Subject: this is a portfolio builder this comp...\n6     spam  Subject: hot penny pick fueled by high demand ...\n7     spam  Subject: fwd : vic : odin = / valium / ^ v | @...\n8     spam  Subject: hotmail hot pick gtvcf . ob dlkbrp do...\n9     spam  Subject: lowe st mort gage rates in years inte...\n10    spam  Subject: better and cheaper than vlagra ! ! bo...\n11    spam            Subject: re : make your friends jealous\n12    spam  Subject: npoede generic viarga . best offer ! ...\n13    spam  Subject: interested in an invitation * this me...\n14    spam  Subject: more confidence , more women - get a ...\n15    spam  Subject: fwd : what im getting my wife for chr...\n16    spam  Subject: learn fast - earn fast ! we make it e...\n17    spam  Subject: hi paliourg order pills . everything ...\n18    spam  Subject: fw : wet teenagers sucking big ccok w...\n19    spam  Subject: get a free 6 . 3 megapixel canon digi...\n20    spam  Subject: new member incentive program - get an...\n21    spam  Subject: adjourn pasteup paliourg , looking fo...\n22    spam  Subject: hottest teenage video galleries our t...\n23    spam      Subject: your day best wishes , your friend .\n24    spam  Subject: partnership 163 hello , my name is ra...\n25    spam  Subject: message subject - - - - 6832034190795...\n26    spam  Subject: huge system here . thirsty dear palio...\n27    spam  Subject: this stock is going thru the ro 0 f c...\n28    spam  Subject: ve do you have depression ? prozac ca...\n29    spam  Subject: want ' a _ ve ' ry big c ` o : c . k ...\n...    ...                                                ...\n5970   ham  Subject: re : model for 04 - 25 hi bill , when...\n5971   ham  Subject: fyi building maintenance somehow got ...\n5972   ham  Subject: fw : dms # 8883 powerex did i send th...\n5973   ham  Subject: start date : 1 / 11 / 02 ; hourahead ...\n5974   ham  Subject: colstrip cut for 09 / 06 / 01 to whom...\n5975   ham  Subject: start date : 12 / 18 / 01 ; hourahead...\n5976   ham  Subject: eol data , july 16 , 2001 eol deals f...\n5977   ham  Subject: start date : 12 / 23 / 01 ; hourahead...\n5978   ham  Subject: schedule crawler : hourahead failure ...\n5979   ham  Subject: start date : 12 / 11 / 01 ; hourahead...\n5980   ham  Subject: welcome new employees ! ! ! we are ha...\n5981   ham  Subject: welcome new hire : john anderson we h...\n5982   ham  Subject: re : us west power pop - up announcem...\n5983   ham  Subject: wscc / wmic meeting report to all , a...\n5984   ham  Subject: mdas faq ' s to all , leslie feusi ha...\n5985   ham  Subject: tag 26235 to whom it may concern : ne...\n5986   ham  Subject: start date : 12 / 11 / 01 ; hourahead...\n5987   ham  Subject: revised ees position 5 / 12 after con...\n5988   ham  Subject: start date : 1 / 13 / 02 ; hourahead ...\n5989   ham  Subject: transstatus 22091 confirmed reservati...\n5990   ham  Subject: schedule crawler : hourahead failure ...\n5991   ham  Subject: start date : 1 / 12 / 02 ; hourahead ...\n5992   ham  Subject: start date : 2 / 2 / 02 ; hourahead h...\n5993   ham  Subject: start date : 1 / 30 / 02 ; hourahead ...\n5994   ham  Subject: schedule crawler : hourahead failure ...\n5995   ham  Subject: fw : adjust function bill , not sure ...\n5996   ham  Subject: start date : 12 / 26 / 01 ; hourahead...\n5997   ham  Subject: caiso notice : rfp for development of...\n5998   ham  Subject: start date : 12 / 25 / 01 ; hourahead...\n5999   ham  Subject: start date : 12 / 20 / 01 ; hourahead...\n\n[6000 rows x 2 columns]\n"
     ]
    }
   ],
   "source": [
    "import pandas as pd\n",
    "df = pd.DataFrame(columns=['class', 'message'])\n",
    "\n",
    "start_index = 0\n",
    "for i, file in enumerate(spam_files):\n",
    "    with open(file, 'r', encoding='utf8', errors='ignore') as f:\n",
    "        lines = [line.rstrip() for line in f]\n",
    "    df.set_value(start_index+i, 'message', \" \".join(lines))\n",
    "    df.set_value(start_index+i, 'class', \"spam\")\n",
    "\n",
    "start_index = df.shape[0]\n",
    "for i, file in enumerate(ham_files):\n",
    "    with open(file, 'r', encoding='utf8', errors='ignore') as f:\n",
    "        lines = [line.rstrip() for line in f]\n",
    "    df.set_value(start_index+i, 'message', \" \".join(lines))\n",
    "    df.set_value(start_index+i, 'class', \"ham\")\n",
    "\n",
    "print(df)"
   ]
  },
  {
   "cell_type": "code",
   "execution_count": 53,
   "metadata": {},
   "outputs": [
    {
     "name": "stdout",
     "output_type": "stream",
     "text": [
      "6000 files 69406 words\n"
     ]
    }
   ],
   "source": [
    "from sklearn.feature_extraction.text import CountVectorizer\n",
    "vectorizer = CountVectorizer()\n",
    "sms_vector = vectorizer.fit_transform(df['message'].values)\n",
    "print(\"%d files %d words\" % sms_vector.shape)"
   ]
  },
  {
   "cell_type": "code",
   "execution_count": 48,
   "metadata": {},
   "outputs": [
    {
     "name": "stdout",
     "output_type": "stream",
     "text": [
      "  (0, 11959)\t1\n  (0, 11498)\t1\n  (0, 52568)\t1\n  (0, 37322)\t1\n  (0, 31424)\t1\n  (0, 13807)\t1\n  (0, 31516)\t1\n  (0, 40009)\t1\n  (0, 20045)\t1\n  (0, 13818)\t3\n  (0, 30213)\t1\n  (0, 66496)\t1\n  (0, 47653)\t1\n  (0, 8194)\t1\n  (0, 28012)\t1\n  (0, 38266)\t1\n  (0, 32454)\t1\n  (0, 11404)\t1\n  (0, 9521)\t1\n  (0, 13617)\t1\n  (0, 13603)\t1\n  (0, 1)\t1\n  (0, 1785)\t1\n  (0, 14708)\t1\n  (0, 57985)\t2\n  :\t:\n  (0, 63860)\t1\n  (0, 14147)\t2\n  (0, 31490)\t5\n  (0, 60617)\t3\n  (0, 62801)\t2\n  (0, 16609)\t4\n  (0, 412)\t2\n  (0, 2862)\t2\n  (0, 4420)\t2\n  (0, 12688)\t2\n  (0, 7053)\t2\n  (0, 38551)\t1\n  (0, 422)\t2\n  (0, 11497)\t1\n  (0, 41628)\t2\n  (0, 54456)\t2\n  (0, 4326)\t2\n  (0, 52567)\t1\n  (0, 39673)\t1\n  (0, 41944)\t2\n  (0, 52452)\t1\n  (0, 8576)\t1\n  (0, 45027)\t1\n  (0, 51563)\t1\n  (0, 58909)\t1\n"
     ]
    }
   ],
   "source": [
    "from sklearn.feature_extraction.text import CountVectorizer\n",
    "vectorizer = CountVectorizer()\n",
    "sms_vector = vectorizer.fit_transform(df['message'].values)\n",
    "print(sms_vector[0])"
   ]
  },
  {
   "cell_type": "code",
   "execution_count": 49,
   "metadata": {},
   "outputs": [
    {
     "name": "stdout",
     "output_type": "stream",
     "text": [
      "  (0, 58909)\t0.00743730714714\n  (0, 51563)\t0.0222858409453\n  (0, 45027)\t0.0244041583976\n  (0, 8576)\t0.0502408127445\n  (0, 52452)\t0.0302318488203\n  (0, 41944)\t0.0672857888157\n  (0, 39673)\t0.0286148824792\n  (0, 52567)\t0.0381930503821\n  (0, 4326)\t0.0958160902806\n  (0, 54456)\t0.0922698182633\n  (0, 41628)\t0.0941917929314\n  (0, 11497)\t0.0463637674086\n  (0, 422)\t0.0958160902806\n  (0, 38551)\t0.0447041802796\n  (0, 7053)\t0.0918257669509\n  (0, 12688)\t0.0703549636714\n  (0, 4420)\t0.0958160902806\n  (0, 2862)\t0.0970066946843\n  (0, 412)\t0.133968722657\n  (0, 16609)\t0.148722374356\n  (0, 62801)\t0.0630697908876\n  (0, 60617)\t0.0959751473015\n  (0, 31490)\t0.152788111894\n  (0, 14147)\t0.0780223216526\n  (0, 63860)\t0.0207942209877\n  :\t:\n  (0, 57985)\t0.085794629858\n  (0, 14708)\t0.0557980757557\n  (0, 1785)\t0.0669843613286\n  (0, 1)\t0.0270067648092\n  (0, 13603)\t0.0669843613286\n  (0, 13617)\t0.0359381610513\n  (0, 9521)\t0.0566740643686\n  (0, 11404)\t0.0390981478664\n  (0, 32454)\t0.0459128834755\n  (0, 38266)\t0.0353869973003\n  (0, 28012)\t0.0669843613286\n  (0, 8194)\t0.0426112293837\n  (0, 47653)\t0.0550144772396\n  (0, 66496)\t0.0410933095313\n  (0, 30213)\t0.0465998922295\n  (0, 13818)\t0.167394227267\n  (0, 20045)\t0.0669843613286\n  (0, 40009)\t0.0618292128486\n  (0, 31516)\t0.0669843613286\n  (0, 13807)\t0.0365334632531\n  (0, 31424)\t0.0506429272757\n  (0, 37322)\t0.0669843613286\n  (0, 52568)\t0.0669843613286\n  (0, 11498)\t0.0669843613286\n  (0, 11959)\t0.0669843613286\n"
     ]
    }
   ],
   "source": [
    "from sklearn.feature_extraction.text import TfidfTransformer\n",
    "tfidf_transformer = TfidfTransformer().fit(sms_vector)\n",
    "sms_tfidf = tfidf_transformer.transform(sms_vector)\n",
    "print(sms_tfidf[0])"
   ]
  },
  {
   "cell_type": "code",
   "execution_count": 51,
   "metadata": {},
   "outputs": [
    {
     "name": "stdout",
     "output_type": "stream",
     "text": [
      "['spam' 'spam']\n"
     ]
    }
   ],
   "source": [
    "examples = ['Free Viagra call today!', 'Hello my friend']\n",
    "example_vector = vectorizer.transform(examples)\n",
    "predictions = classifier.predict(example_vector)\n",
    "print(predictions)"
   ]
  },
  {
   "cell_type": "code",
   "execution_count": 50,
   "metadata": {},
   "outputs": [
    {
     "name": "stdout",
     "output_type": "stream",
     "text": [
      "training a multinomial naive-bayes model\n"
     ]
    }
   ],
   "source": [
    "from sklearn.naive_bayes import MultinomialNB\n",
    "classifier = MultinomialNB()\n",
    "targets = df['class'].values\n",
    "clf = classifier.fit(sms_tfidf, targets)\n",
    "print(\"training a multinomial naive-bayes model\")"
   ]
  },
  {
   "cell_type": "code",
   "execution_count": 52,
   "metadata": {},
   "outputs": [
    {
     "name": "stdout",
     "output_type": "stream",
     "text": [
      "0.927666666667\n[[1093  407]\n [  27 4473]]\n             precision    recall  f1-score   support\n\n        ham       0.98      0.73      0.83      1500\n       spam       0.92      0.99      0.95      4500\n\navg / total       0.93      0.93      0.92      6000\n\n"
     ]
    }
   ],
   "source": [
    "from sklearn.metrics import classification_report, accuracy_score, confusion_matrix\n",
    "all_predictions = clf.predict(sms_tfidf)\n",
    "accuracy = accuracy_score(df['class'], all_predictions)\n",
    "cm = confusion_matrix(df['class'], all_predictions)\n",
    "statistics = classification_report(df['class'], all_predictions)\n",
    "print(accuracy)\n",
    "print(cm)\n",
    "print(statistics)"
   ]
  },
  {
   "cell_type": "code",
   "execution_count": 54,
   "metadata": {},
   "outputs": [
    {
     "name": "stdout",
     "output_type": "stream",
     "text": [
      "training a svm-SVC model\n"
     ]
    }
   ],
   "source": [
    "from sklearn import svm\n",
    "classifier = svm.SVC()\n",
    "targets = df['class'].values\n",
    "clf = classifier.fit(sms_tfidf, targets)\n",
    "print(\"training a svm-SVC model\")"
   ]
  },
  {
   "cell_type": "code",
   "execution_count": 55,
   "metadata": {},
   "outputs": [
    {
     "name": "stdout",
     "output_type": "stream",
     "text": [
      "['spam' 'spam']\n"
     ]
    }
   ],
   "source": [
    "examples = ['Free Viagra call today!', 'Hello my friend']\n",
    "example_vector = vectorizer.transform(examples)\n",
    "predictions = classifier.predict(example_vector)\n",
    "print(predictions)"
   ]
  },
  {
   "cell_type": "code",
   "execution_count": 56,
   "metadata": {},
   "outputs": [
    {
     "name": "stdout",
     "output_type": "stream",
     "text": [
      "0.75\n[[   0 1500]\n [   0 4500]]\n             precision    recall  f1-score   support\n\n        ham       0.00      0.00      0.00      1500\n       spam       0.75      1.00      0.86      4500\n\navg / total       0.56      0.75      0.64      6000\n\n"
     ]
    },
    {
     "name": "stderr",
     "output_type": "stream",
     "text": [
      "/usr/local/lib/python3.5/dist-packages/sklearn/metrics/classification.py:1113: UndefinedMetricWarning: Precision and F-score are ill-defined and being set to 0.0 in labels with no predicted samples.\n  'precision', 'predicted', average, warn_for)\n"
     ]
    }
   ],
   "source": [
    "from sklearn.metrics import classification_report, accuracy_score, confusion_matrix\n",
    "all_predictions = clf.predict(sms_tfidf)\n",
    "accuracy = accuracy_score(df['class'], all_predictions)\n",
    "cm = confusion_matrix(df['class'], all_predictions)\n",
    "statistics = classification_report(df['class'], all_predictions)\n",
    "print(accuracy)\n",
    "print(cm)\n",
    "print(statistics)"
   ]
  },
  {
   "cell_type": "code",
   "execution_count": null,
   "metadata": {},
   "outputs": [],
   "source": [
    ""
   ]
  },
  {
   "cell_type": "code",
   "execution_count": null,
   "metadata": {},
   "outputs": [],
   "source": [
    ""
   ]
  },
  {
   "cell_type": "code",
   "execution_count": null,
   "metadata": {},
   "outputs": [],
   "source": [
    ""
   ]
  },
  {
   "cell_type": "code",
   "execution_count": null,
   "metadata": {},
   "outputs": [],
   "source": [
    ""
   ]
  },
  {
   "cell_type": "code",
   "execution_count": null,
   "metadata": {},
   "outputs": [],
   "source": [
    ""
   ]
  }
 ],
 "metadata": {
  "kernelspec": {
   "display_name": "Python 2",
   "language": "python",
   "name": "python2"
  },
  "language_info": {
   "codemirror_mode": {
    "name": "ipython",
    "version": 2.0
   },
   "file_extension": ".py",
   "mimetype": "text/x-python",
   "name": "python",
   "nbconvert_exporter": "python",
   "pygments_lexer": "ipython2",
   "version": "2.7.6"
  }
 },
 "nbformat": 4,
 "nbformat_minor": 0
}