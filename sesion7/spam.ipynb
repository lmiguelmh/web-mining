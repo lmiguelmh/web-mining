{
 "cells": [
  {
   "cell_type": "markdown",
   "metadata": {},
   "source": [
    "### SPAM Database from https://archive.ics.uci.edu/ml/datasets/SMS+Spam+Collection"
   ]
  },
  {
   "cell_type": "code",
   "execution_count": 4,
   "metadata": {
    "collapsed": true
   },
   "outputs": [
    {
     "name": "stdout",
     "output_type": "stream",
     "text": [
      "5574 lines\n"
     ]
    }
   ],
   "source": [
    "import os\n",
    "import pandas\n",
    "\n",
    "sms_file = \"sms/SMSSpamCollection.txt\"\n",
    "sms_content = [line.rstrip() for line in open(sms_file)]\n",
    "print(\"%d lines\" % len(sms_content))"
   ]
  },
  {
   "cell_type": "code",
   "execution_count": 5,
   "metadata": {},
   "outputs": [
    {
     "name": "stdout",
     "output_type": "stream",
     "text": [
      "     class                                            message\n0      ham  Go until jurong point, crazy.. Available only ...\n1      ham                      Ok lar... Joking wif u oni...\n2     spam  Free entry in 2 a wkly comp to win FA Cup fina...\n3      ham  U dun say so early hor... U c already then say...\n4      ham  Nah I don't think he goes to usf, he lives aro...\n5     spam  FreeMsg Hey there darling it's been 3 week's n...\n6      ham  Even my brother is not like to speak with me. ...\n7      ham  As per your request 'Melle Melle (Oru Minnamin...\n8     spam  WINNER!! As a valued network customer you have...\n9     spam  Had your mobile 11 months or more? U R entitle...\n10     ham  I'm gonna be home soon and i don't want to tal...\n11    spam  SIX chances to win CASH! From 100 to 20,000 po...\n12    spam  URGENT! You have won a 1 week FREE membership ...\n13     ham  I've been searching for the right words to tha...\n14     ham                I HAVE A DATE ON SUNDAY WITH WILL!!\n15    spam  XXXMobileMovieClub: To use your credit, click ...\n16     ham                         Oh k...i'm watching here:)\n17     ham  Eh u remember how 2 spell his name... Yes i di...\n18     ham  Fine if thats the way u feel. Thats the way ...\n19    spam  England v Macedonia - dont miss the goals/team...\n20     ham          Is that seriously how you spell his name?\n21     ham    I‘m going to try for 2 months ha ha only joking\n22     ham  So ü pay first lar... Then when is da stock co...\n23     ham  Aft i finish my lunch then i go str down lor. ...\n24     ham  Ffffffffff. Alright no way I can meet up with ...\n25     ham  Just forced myself to eat a slice. I'm really ...\n26     ham                     Lol your always so convincing.\n27     ham  Did you catch the bus ? Are you frying an egg ...\n28     ham  I'm back &amp; we're packing the car now, I'll...\n29     ham  Ahhh. Work. I vaguely remember that! What does...\n...    ...                                                ...\n5542   ham           Armand says get your ass over to epsilon\n5543   ham             U still havent got urself a jacket ah?\n5544   ham  I'm taking derek &amp; taylor to walmart, if I...\n5545   ham      Hi its in durban are you still on this number\n5546   ham         Ic. There are a lotta childporn cars then.\n5547  spam  Had your contract mobile 11 Mnths? Latest Moto...\n5548   ham                 No, I was trying it all weekend ;V\n5549   ham  You know, wot people wear. T shirts, jumpers, ...\n5550   ham        Cool, what time you think you can get here?\n5551   ham  Wen did you get so spiritual and deep. That's ...\n5552   ham  Have a safe trip to Nigeria. Wish you happines...\n5553   ham                        Hahaha..use your brain dear\n5554   ham  Well keep in mind I've only got enough gas for...\n5555   ham  Yeh. Indians was nice. Tho it did kane me off ...\n5556   ham  Yes i have. So that's why u texted. Pshew...mi...\n5557   ham  No. I meant the calculation is the same. That ...\n5558   ham                             Sorry, I'll call later\n5559   ham  if you aren't here in the next  &lt;#&gt;  hou...\n5560   ham                  Anything lor. Juz both of us lor.\n5561   ham  Get me out of this dump heap. My mom decided t...\n5562   ham  Ok lor... Sony ericsson salesman... I ask shuh...\n5563   ham                                Ard 6 like dat lor.\n5564   ham  Why don't you wait 'til at least wednesday to ...\n5565   ham                                       Huh y lei...\n5566  spam  REMINDER FROM O2: To get 2.50 pounds free call...\n5567  spam  This is the 2nd time we have tried 2 contact u...\n5568   ham               Will ü b going to esplanade fr home?\n5569   ham  Pity, * was in mood for that. So...any other s...\n5570   ham  The guy did some bitching but I acted like i'd...\n5571   ham                         Rofl. Its true to its name\n\n[5572 rows x 2 columns]\n"
     ]
    }
   ],
   "source": [
    "sms_content = pandas.read_csv(sms_file, sep='\\t', names=['class', 'message'])\n",
    "print(sms_content)"
   ]
  },
  {
   "cell_type": "code",
   "execution_count": 9,
   "metadata": {},
   "outputs": [
    {
     "name": "stdout",
     "output_type": "stream",
     "text": [
      "5572 files 8713 words\n  (0, 3571)\t1\n  (0, 8084)\t1\n  (0, 4374)\t1\n  (0, 5958)\t1\n  (0, 2338)\t1\n  (0, 1316)\t1\n  (0, 5571)\t1\n  (0, 4114)\t1\n  (0, 1767)\t1\n  (0, 3655)\t1\n  (0, 8548)\t1\n  (0, 4501)\t1\n  (0, 1765)\t1\n  (0, 2061)\t1\n  (0, 7694)\t1\n  (0, 3615)\t1\n  (0, 1082)\t1\n  (0, 8324)\t1\n  (1, 5538)\t1\n  (1, 4537)\t1\n  (1, 4342)\t1\n  (1, 8450)\t1\n  (1, 5567)\t1\n  (2, 4114)\t1\n  (2, 3373)\t1\n  :\t:\n  (5570, 4245)\t1\n  (5570, 8371)\t1\n  (5570, 1097)\t1\n  (5570, 4642)\t1\n  (5570, 7089)\t1\n  (5570, 3323)\t1\n  (5570, 7674)\t1\n  (5570, 1451)\t1\n  (5570, 5367)\t1\n  (5570, 2606)\t1\n  (5570, 8120)\t1\n  (5570, 1794)\t1\n  (5570, 7099)\t1\n  (5570, 2905)\t1\n  (5570, 3489)\t1\n  (5570, 1802)\t1\n  (5570, 3709)\t1\n  (5570, 4188)\t1\n  (5570, 914)\t1\n  (5570, 1561)\t1\n  (5571, 7806)\t1\n  (5571, 5276)\t1\n  (5571, 4253)\t2\n  (5571, 7938)\t1\n  (5571, 6548)\t1\n"
     ]
    }
   ],
   "source": [
    "from sklearn.feature_extraction.text import CountVectorizer\n",
    "vectorizer = CountVectorizer()\n",
    "sms_vector = vectorizer.fit_transform(sms_content['message'].values)\n",
    "print(\"%d files %d words\" % sms_vector.shape)\n",
    "print(sms_vector)"
   ]
  },
  {
   "cell_type": "code",
   "execution_count": 6,
   "metadata": {},
   "outputs": [
    {
     "name": "stdout",
     "output_type": "stream",
     "text": [
      "5572 files 8713 words\nGo until jurong point, crazy.. Available only in bugis n great world la e buffet... Cine there got amore wat...\n[(3571, u'go'), (8084, u'until'), (4374, u'jurong'), (5958, u'point'), (2338, u'crazy')]\n  (0, 3571)\t1\n  (0, 8084)\t1\n  (0, 4374)\t1\n  (0, 5958)\t1\n  (0, 2338)\t1\n  (0, 1316)\t1\n  (0, 5571)\t1\n  (0, 4114)\t1\n  (0, 1767)\t1\n  (0, 3655)\t1\n  (0, 8548)\t1\n  (0, 4501)\t1\n  (0, 1765)\t1\n  (0, 2061)\t1\n  (0, 7694)\t1\n  (0, 3615)\t1\n  (0, 1082)\t1\n  (0, 8324)\t1\n"
     ]
    }
   ],
   "source": [
    "from sklearn.feature_extraction.text import CountVectorizer\n",
    "vectorizer = CountVectorizer()\n",
    "sms_vector = vectorizer.fit_transform(sms_content['message'].values)\n",
    "print(\"%d files %d words\" % sms_vector.shape)\n",
    "print(sms_content.at[0, 'message'])\n",
    "terms = vectorizer.get_feature_names()\n",
    "index = [3571,8084,4374,5958,2338]\n",
    "print([(i,terms[i]) for i in index])\n",
    "print(sms_vector[0])\n",
    "# print(sms_vector[0][:])"
   ]
  },
  {
   "cell_type": "code",
   "execution_count": 11,
   "metadata": {},
   "outputs": [
    {
     "name": "stdout",
     "output_type": "stream",
     "text": [
      "  (0, 3571)\t1\n  (0, 8084)\t1\n  (0, 4374)\t1\n  (0, 5958)\t1\n  (0, 2338)\t1\n  (0, 1316)\t1\n  (0, 5571)\t1\n  (0, 4114)\t1\n  (0, 1767)\t1\n  (0, 3655)\t1\n  (0, 8548)\t1\n  (0, 4501)\t1\n  (0, 1765)\t1\n  (0, 2061)\t1\n  (0, 7694)\t1\n  (0, 3615)\t1\n  (0, 1082)\t1\n  (0, 8324)\t1\n"
     ]
    }
   ],
   "source": [
    "from sklearn.feature_extraction.text import CountVectorizer\n",
    "vectorizer = CountVectorizer()\n",
    "sms_vector = vectorizer.fit_transform(sms_content['message'].values)\n",
    "print(sms_vector[0])"
   ]
  },
  {
   "cell_type": "code",
   "execution_count": 8,
   "metadata": {},
   "outputs": [
    {
     "name": "stdout",
     "output_type": "stream",
     "text": [
      "  (0, 8324)\t0.182412648297\n  (0, 1082)\t0.326471988568\n  (0, 3615)\t0.153051309917\n  (0, 7694)\t0.155516195055\n  (0, 2061)\t0.275804855211\n  (0, 1765)\t0.311652802052\n  (0, 4501)\t0.275804855211\n  (0, 8548)\t0.220832915501\n  (0, 3655)\t0.180343306364\n  (0, 1767)\t0.275804855211\n  (0, 4114)\t0.106993161664\n  (0, 5571)\t0.156029767126\n  (0, 1316)\t0.24419040034\n  (0, 2338)\t0.252830081838\n  (0, 5958)\t0.25535167546\n  (0, 4374)\t0.326471988568\n  (0, 8084)\t0.230018108782\n  (0, 3571)\t0.147874180269\n"
     ]
    }
   ],
   "source": [
    "from sklearn.feature_extraction.text import TfidfTransformer\n",
    "tfidf_transformer = TfidfTransformer().fit(sms_vector)\n",
    "sms_tfidf = tfidf_transformer.transform(sms_vector)\n",
    "print(sms_tfidf[0])"
   ]
  },
  {
   "cell_type": "code",
   "execution_count": 13,
   "metadata": {},
   "outputs": [
    {
     "name": "stdout",
     "output_type": "stream",
     "text": [
      "training a multinomial naive-bayes model\n"
     ]
    }
   ],
   "source": [
    "from sklearn.naive_bayes import MultinomialNB\n",
    "classifier = MultinomialNB()\n",
    "targets = sms_content['class'].values\n",
    "clf = classifier.fit(sms_tfidf, targets)\n",
    "print(\"training a multinomial naive-bayes model\")"
   ]
  },
  {
   "cell_type": "code",
   "execution_count": 16,
   "metadata": {},
   "outputs": [
    {
     "name": "stdout",
     "output_type": "stream",
     "text": [
      "['ham' 'ham']\n"
     ]
    }
   ],
   "source": [
    "examples = ['Free Viagra call today!', 'Hello my friend']\n",
    "example_vector = vectorizer.transform(examples)\n",
    "predictions = classifier.predict(example_vector)\n",
    "print predictions"
   ]
  },
  {
   "cell_type": "code",
   "execution_count": 17,
   "metadata": {},
   "outputs": [
    {
     "name": "stdout",
     "output_type": "stream",
     "text": [
      "0.976130653266\n[[4825    0]\n [ 133  614]]\n             precision    recall  f1-score   support\n\n        ham       0.97      1.00      0.99      4825\n       spam       1.00      0.82      0.90       747\n\navg / total       0.98      0.98      0.98      5572\n\n"
     ]
    }
   ],
   "source": [
    "from sklearn.metrics import classification_report, accuracy_score, confusion_matrix\n",
    "all_predictions = clf.predict(sms_tfidf)\n",
    "accuracy = accuracy_score(sms_content['class'], all_predictions)\n",
    "cm = confusion_matrix(sms_content['class'], all_predictions)\n",
    "statistics = classification_report(sms_content['class'], all_predictions)\n",
    "print accuracy\n",
    "print cm\n",
    "print statistics"
   ]
  },
  {
   "cell_type": "code",
   "execution_count": null,
   "metadata": {},
   "outputs": [],
   "source": [
    ""
   ]
  },
  {
   "cell_type": "code",
   "execution_count": null,
   "metadata": {},
   "outputs": [],
   "source": [
    ""
   ]
  }
 ],
 "metadata": {
  "kernelspec": {
   "display_name": "Python 2",
   "language": "python",
   "name": "python2"
  },
  "language_info": {
   "codemirror_mode": {
    "name": "ipython",
    "version": 2.0
   },
   "file_extension": ".py",
   "mimetype": "text/x-python",
   "name": "python",
   "nbconvert_exporter": "python",
   "pygments_lexer": "ipython2",
   "version": "2.7.6"
  }
 },
 "nbformat": 4,
 "nbformat_minor": 0
}