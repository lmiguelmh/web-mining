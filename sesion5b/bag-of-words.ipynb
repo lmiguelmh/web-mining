{
 "cells": [
  {
   "cell_type": "code",
   "execution_count": 1,
   "metadata": {
    "collapsed": true
   },
   "outputs": [
    {
     "name": "stdout",
     "output_type": "stream",
     "text": [
      "CountVectorizer(analyzer='word', binary=False, decode_error='strict',\n        dtype=<class 'numpy.int64'>, encoding='utf-8', input='filename',\n        lowercase=True, max_df=1.0, max_features=None, min_df=1,\n        ngram_range=(1, 1), preprocessor=None, stop_words=None,\n        strip_accents=None, token_pattern='(?u)\\\\b\\\\w\\\\w+\\\\b',\n        tokenizer=None, vocabulary=None)\n"
     ]
    }
   ],
   "source": [
    "from sklearn.feature_extraction.text import CountVectorizer\n",
    "filenames = [\n",
    "    'data/Austen_Emma.txt',\n",
    "    'data/Austen_Pride.txt',\n",
    "    'data/Austen_Sense.txt',\n",
    "    'data/CBronte_Jane.txt',\n",
    "    'data/CBronte_Professor.txt',\n",
    "    'data/CBronte_Villette.txt']\n",
    "vectorizer = CountVectorizer(input='filename')\n",
    "print(vectorizer)"
   ]
  },
  {
   "cell_type": "code",
   "execution_count": 6,
   "metadata": {},
   "outputs": [
    {
     "name": "stdout",
     "output_type": "stream",
     "text": [
      "len(vocab)\n22854\n"
     ]
    }
   ],
   "source": [
    "vectorizer = CountVectorizer(input='filename')\n",
    "dtm = vectorizer.fit_transform(filenames)\n",
    "vocab = vectorizer.get_feature_names()\n",
    "print(\"len(vocab)\")\n",
    "print(len(vocab))"
   ]
  },
  {
   "cell_type": "code",
   "execution_count": 15,
   "metadata": {},
   "outputs": [
    {
     "name": "stdout",
     "output_type": "stream",
     "text": [
      "len(vocab)\n22556\n"
     ]
    }
   ],
   "source": [
    "vectorizer = CountVectorizer(input='filename', min_df=1, stop_words='english')\n",
    "dtm = vectorizer.fit_transform(filenames)\n",
    "vocab = vectorizer.get_feature_names()\n",
    "print(\"len(vocab)\")\n",
    "print(len(vocab))"
   ]
  },
  {
   "cell_type": "code",
   "execution_count": 11,
   "metadata": {},
   "outputs": [
    {
     "name": "stdout",
     "output_type": "stream",
     "text": [
      "dtm\n  (0, 6925)\t865\n  (0, 11289)\t301\n  (0, 1710)\t1\n  (0, 21753)\t3\n  (0, 3402)\t56\n  (0, 22317)\t313\n  (0, 9519)\t38\n  (0, 3756)\t27\n  (0, 16924)\t14\n  (0, 3967)\t34\n  (0, 9955)\t130\n  (0, 9544)\t125\n  (0, 6159)\t24\n  (0, 21034)\t3\n  (0, 2237)\t85\n  (0, 2407)\t6\n  (0, 7539)\t8\n  (0, 12043)\t25\n  (0, 13361)\t14\n  (0, 22500)\t57\n  (0, 22354)\t81\n  (0, 12039)\t359\n  (0, 6239)\t19\n  (0, 21576)\t1\n  (0, 22529)\t4\n  :\t:\n  (5, 4860)\t2\n  (5, 3423)\t1\n  (5, 15667)\t2\n  (5, 7022)\t1\n  (5, 11240)\t1\n  (5, 7154)\t1\n  (5, 15712)\t1\n  (5, 15535)\t1\n  (5, 7974)\t1\n  (5, 13616)\t1\n  (5, 17522)\t1\n  (5, 1254)\t1\n  (5, 15813)\t1\n  (5, 15605)\t1\n  (5, 6572)\t1\n  (5, 8291)\t1\n  (5, 7239)\t1\n  (5, 15986)\t1\n  (5, 11465)\t1\n  (5, 21938)\t1\n  (5, 22412)\t1\n  (5, 5367)\t1\n  (5, 22026)\t1\n  (5, 16626)\t1\n  (5, 13498)\t1\n"
     ]
    }
   ],
   "source": [
    "vectorizer = CountVectorizer(input='filename', min_df=1, stop_words='english')\n",
    "dtm = vectorizer.fit_transform(filenames)\n",
    "vocab = vectorizer.get_feature_names()\n",
    "\n",
    "print(\"dtm\")\n",
    "print(dtm)"
   ]
  },
  {
   "cell_type": "code",
   "execution_count": 17,
   "metadata": {},
   "outputs": [
    {
     "name": "stdout",
     "output_type": "stream",
     "text": [
      "ocurrences for house\n95\n[95]\n"
     ]
    }
   ],
   "source": [
    "vectorizer = CountVectorizer(input='filename', min_df=1, stop_words='english')\n",
    "dtm = vectorizer.fit_transform(filenames)\n",
    "vocab = vectorizer.get_feature_names()\n",
    "\n",
    "import numpy as np \n",
    "dtm = dtm.toarray()\n",
    "vocab = np.array(vocab)\n",
    "\n",
    "term = \"house\"\n",
    "print \"ocurrences for\", term\n",
    "# primera forma\n",
    "house_idx = list(vocab).index(term)\n",
    "print dtm[0, house_idx]\n",
    "# segunda forma\n",
    "print dtm[0, vocab == term]"
   ]
  },
  {
   "cell_type": "code",
   "execution_count": 19,
   "metadata": {},
   "outputs": [
    {
     "data": {
      "text/html": [
       "<div>\n",
       "<table border=\"1\" class=\"dataframe\">\n",
       "  <thead>\n",
       "    <tr style=\"text-align: right;\">\n",
       "      <th></th>\n",
       "      <th>and</th>\n",
       "      <th>emma</th>\n",
       "      <th>house</th>\n",
       "      <th>pride</th>\n",
       "      <th>of</th>\n",
       "    </tr>\n",
       "  </thead>\n",
       "  <tbody>\n",
       "    <tr>\n",
       "      <th>data/Austen_Emma.txt</th>\n",
       "      <td>[]</td>\n",
       "      <td>[865]</td>\n",
       "      <td>[95]</td>\n",
       "      <td>[18]</td>\n",
       "      <td>[]</td>\n",
       "    </tr>\n",
       "    <tr>\n",
       "      <th>data/Austen_Pride.txt</th>\n",
       "      <td>[]</td>\n",
       "      <td>[0]</td>\n",
       "      <td>[107]</td>\n",
       "      <td>[48]</td>\n",
       "      <td>[]</td>\n",
       "    </tr>\n",
       "    <tr>\n",
       "      <th>data/Austen_Sense.txt</th>\n",
       "      <td>[]</td>\n",
       "      <td>[0]</td>\n",
       "      <td>[161]</td>\n",
       "      <td>[8]</td>\n",
       "      <td>[]</td>\n",
       "    </tr>\n",
       "    <tr>\n",
       "      <th>data/CBronte_Jane.txt</th>\n",
       "      <td>[]</td>\n",
       "      <td>[0]</td>\n",
       "      <td>[182]</td>\n",
       "      <td>[24]</td>\n",
       "      <td>[]</td>\n",
       "    </tr>\n",
       "    <tr>\n",
       "      <th>data/CBronte_Professor.txt</th>\n",
       "      <td>[]</td>\n",
       "      <td>[0]</td>\n",
       "      <td>[93]</td>\n",
       "      <td>[12]</td>\n",
       "      <td>[]</td>\n",
       "    </tr>\n",
       "    <tr>\n",
       "      <th>data/CBronte_Villette.txt</th>\n",
       "      <td>[]</td>\n",
       "      <td>[0]</td>\n",
       "      <td>[129]</td>\n",
       "      <td>[18]</td>\n",
       "      <td>[]</td>\n",
       "    </tr>\n",
       "  </tbody>\n",
       "</table>\n",
       "</div>"
      ],
      "text/plain": [
       "<div>\n",
       "<table border=\"1\" class=\"dataframe\">\n",
       "  <thead>\n",
       "    <tr style=\"text-align: right;\">\n",
       "      <th></th>\n",
       "      <th>and</th>\n",
       "      <th>emma</th>\n",
       "      <th>house</th>\n",
       "      <th>pride</th>\n",
       "      <th>of</th>\n",
       "    </tr>\n",
       "  </thead>\n",
       "  <tbody>\n",
       "    <tr>\n",
       "      <th>data/Austen_Emma.txt</th>\n",
       "      <td>[]</td>\n",
       "      <td>[865]</td>\n",
       "      <td>[95]</td>\n",
       "      <td>[18]</td>\n",
       "      <td>[]</td>\n",
       "    </tr>\n",
       "    <tr>\n",
       "      <th>data/Austen_Pride.txt</th>\n",
       "      <td>[]</td>\n",
       "      <td>[0]</td>\n",
       "      <td>[107]</td>\n",
       "      <td>[48]</td>\n",
       "      <td>[]</td>\n",
       "    </tr>\n",
       "    <tr>\n",
       "      <th>data/Austen_Sense.txt</th>\n",
       "      <td>[]</td>\n",
       "      <td>[0]</td>\n",
       "      <td>[161]</td>\n",
       "      <td>[8]</td>\n",
       "      <td>[]</td>\n",
       "    </tr>\n",
       "    <tr>\n",
       "      <th>data/CBronte_Jane.txt</th>\n",
       "      <td>[]</td>\n",
       "      <td>[0]</td>\n",
       "      <td>[182]</td>\n",
       "      <td>[24]</td>\n",
       "      <td>[]</td>\n",
       "    </tr>\n",
       "    <tr>\n",
       "      <th>data/CBronte_Professor.txt</th>\n",
       "      <td>[]</td>\n",
       "      <td>[0]</td>\n",
       "      <td>[93]</td>\n",
       "      <td>[12]</td>\n",
       "      <td>[]</td>\n",
       "    </tr>\n",
       "    <tr>\n",
       "      <th>data/CBronte_Villette.txt</th>\n",
       "      <td>[]</td>\n",
       "      <td>[0]</td>\n",
       "      <td>[129]</td>\n",
       "      <td>[18]</td>\n",
       "      <td>[]</td>\n",
       "    </tr>\n",
       "  </tbody>\n",
       "</table>\n",
       "</div>"
      ]
     },
     "execution_count": 19,
     "metadata": {},
     "output_type": "execute_result"
    }
   ],
   "source": [
    "import pandas\n",
    "\n",
    "def ocurrences(docs, dtm, vocab, words):\n",
    "    data = []\n",
    "    for d,_ in enumerate(docs):\n",
    "        row = []\n",
    "        for w in words:\n",
    "            row.append(dtm[d, vocab == w])\n",
    "        data.append(row)\n",
    "    return pandas.DataFrame(data, docs, words)\n",
    "\n",
    "    \n",
    "vectorizer = CountVectorizer(input='filename', min_df=1, stop_words='english')\n",
    "dtm = vectorizer.fit_transform(filenames)\n",
    "vocab = vectorizer.get_feature_names()\n",
    "\n",
    "import numpy as np \n",
    "dtm = dtm.toarray()\n",
    "vocab = np.array(vocab)\n",
    "\n",
    "ocurrences(filenames, dtm, vocab, ['and','emma','house','pride','of'])"
   ]
  },
  {
   "cell_type": "code",
   "execution_count": 28,
   "metadata": {},
   "outputs": [
    {
     "name": "stdout",
     "output_type": "stream",
     "text": [
      "[[    0.   2013.1  2274.9  2105.6  2426.   2417.7]\n [ 2013.1     0.   1698.7  1725.2  1639.4  2001.8]\n [ 2274.9  1698.7     0.   1844.   1568.5  1896. ]\n [ 2105.6  1725.2  1844.      0.   1571.1  1342.8]\n [ 2426.   1639.4  1568.5  1571.1     0.   1509.6]\n [ 2417.7  2001.8  1896.   1342.8  1509.6     0. ]]\n"
     ]
    }
   ],
   "source": [
    "vectorizer = CountVectorizer(input='filename', min_df=1, stop_words='english')\n",
    "dtm = vectorizer.fit_transform(filenames)\n",
    "vocab = vectorizer.get_feature_names()\n",
    "\n",
    "from sklearn.metrics.pairwise import euclidean_distances\n",
    "dist = euclidean_distances(dtm)\n",
    "round_dist = np.round(dist, 1)\n",
    "print round_dist"
   ]
  },
  {
   "cell_type": "code",
   "execution_count": 54,
   "metadata": {},
   "outputs": [
    {
     "name": "stdout",
     "output_type": "stream",
     "text": [
      "[[    0.   2013.1  2274.9  2105.6  2426.   2417.7]\n [ 2013.1     0.   1698.7  1725.2  1639.4  2001.8]\n [ 2274.9  1698.7     0.   1844.   1568.5  1896. ]\n [ 2105.6  1725.2  1844.      0.   1571.1  1342.8]\n [ 2426.   1639.4  1568.5  1571.1     0.   1509.6]\n [ 2417.7  2001.8  1896.   1342.8  1509.6     0. ]]\n"
     ]
    },
    {
     "data": {
      "text/html": [
       "<div>\n",
       "<table border=\"1\" class=\"dataframe\">\n",
       "  <thead>\n",
       "    <tr style=\"text-align: right;\">\n",
       "      <th></th>\n",
       "      <th>data/Austen_Emma.txt</th>\n",
       "      <th>data/Austen_Pride.txt</th>\n",
       "      <th>data/Austen_Sense.txt</th>\n",
       "      <th>data/CBronte_Jane.txt</th>\n",
       "      <th>data/CBronte_Professor.txt</th>\n",
       "      <th>data/CBronte_Villette.txt</th>\n",
       "    </tr>\n",
       "  </thead>\n",
       "  <tbody>\n",
       "    <tr>\n",
       "      <th>data/Austen_Emma.txt</th>\n",
       "      <td>0.0</td>\n",
       "      <td>2013.1</td>\n",
       "      <td>2274.9</td>\n",
       "      <td>2105.6</td>\n",
       "      <td>2426.0</td>\n",
       "      <td>2417.7</td>\n",
       "    </tr>\n",
       "    <tr>\n",
       "      <th>data/Austen_Pride.txt</th>\n",
       "      <td>2013.1</td>\n",
       "      <td>0.0</td>\n",
       "      <td>1698.7</td>\n",
       "      <td>1725.2</td>\n",
       "      <td>1639.4</td>\n",
       "      <td>2001.8</td>\n",
       "    </tr>\n",
       "    <tr>\n",
       "      <th>data/Austen_Sense.txt</th>\n",
       "      <td>2274.9</td>\n",
       "      <td>1698.7</td>\n",
       "      <td>0.0</td>\n",
       "      <td>1844.0</td>\n",
       "      <td>1568.5</td>\n",
       "      <td>1896.0</td>\n",
       "    </tr>\n",
       "    <tr>\n",
       "      <th>data/CBronte_Jane.txt</th>\n",
       "      <td>2105.6</td>\n",
       "      <td>1725.2</td>\n",
       "      <td>1844.0</td>\n",
       "      <td>0.0</td>\n",
       "      <td>1571.1</td>\n",
       "      <td>1342.8</td>\n",
       "    </tr>\n",
       "    <tr>\n",
       "      <th>data/CBronte_Professor.txt</th>\n",
       "      <td>2426.0</td>\n",
       "      <td>1639.4</td>\n",
       "      <td>1568.5</td>\n",
       "      <td>1571.1</td>\n",
       "      <td>0.0</td>\n",
       "      <td>1509.6</td>\n",
       "    </tr>\n",
       "    <tr>\n",
       "      <th>data/CBronte_Villette.txt</th>\n",
       "      <td>2417.7</td>\n",
       "      <td>2001.8</td>\n",
       "      <td>1896.0</td>\n",
       "      <td>1342.8</td>\n",
       "      <td>1509.6</td>\n",
       "      <td>0.0</td>\n",
       "    </tr>\n",
       "  </tbody>\n",
       "</table>\n",
       "</div>"
      ],
      "text/plain": [
       "<div>\n",
       "<table border=\"1\" class=\"dataframe\">\n",
       "  <thead>\n",
       "    <tr style=\"text-align: right;\">\n",
       "      <th></th>\n",
       "      <th>data/Austen_Emma.txt</th>\n",
       "      <th>data/Austen_Pride.txt</th>\n",
       "      <th>data/Austen_Sense.txt</th>\n",
       "      <th>data/CBronte_Jane.txt</th>\n",
       "      <th>data/CBronte_Professor.txt</th>\n",
       "      <th>data/CBronte_Villette.txt</th>\n",
       "    </tr>\n",
       "  </thead>\n",
       "  <tbody>\n",
       "    <tr>\n",
       "      <th>data/Austen_Emma.txt</th>\n",
       "      <td>0.0</td>\n",
       "      <td>2013.1</td>\n",
       "      <td>2274.9</td>\n",
       "      <td>2105.6</td>\n",
       "      <td>2426.0</td>\n",
       "      <td>2417.7</td>\n",
       "    </tr>\n",
       "    <tr>\n",
       "      <th>data/Austen_Pride.txt</th>\n",
       "      <td>2013.1</td>\n",
       "      <td>0.0</td>\n",
       "      <td>1698.7</td>\n",
       "      <td>1725.2</td>\n",
       "      <td>1639.4</td>\n",
       "      <td>2001.8</td>\n",
       "    </tr>\n",
       "    <tr>\n",
       "      <th>data/Austen_Sense.txt</th>\n",
       "      <td>2274.9</td>\n",
       "      <td>1698.7</td>\n",
       "      <td>0.0</td>\n",
       "      <td>1844.0</td>\n",
       "      <td>1568.5</td>\n",
       "      <td>1896.0</td>\n",
       "    </tr>\n",
       "    <tr>\n",
       "      <th>data/CBronte_Jane.txt</th>\n",
       "      <td>2105.6</td>\n",
       "      <td>1725.2</td>\n",
       "      <td>1844.0</td>\n",
       "      <td>0.0</td>\n",
       "      <td>1571.1</td>\n",
       "      <td>1342.8</td>\n",
       "    </tr>\n",
       "    <tr>\n",
       "      <th>data/CBronte_Professor.txt</th>\n",
       "      <td>2426.0</td>\n",
       "      <td>1639.4</td>\n",
       "      <td>1568.5</td>\n",
       "      <td>1571.1</td>\n",
       "      <td>0.0</td>\n",
       "      <td>1509.6</td>\n",
       "    </tr>\n",
       "    <tr>\n",
       "      <th>data/CBronte_Villette.txt</th>\n",
       "      <td>2417.7</td>\n",
       "      <td>2001.8</td>\n",
       "      <td>1896.0</td>\n",
       "      <td>1342.8</td>\n",
       "      <td>1509.6</td>\n",
       "      <td>0.0</td>\n",
       "    </tr>\n",
       "  </tbody>\n",
       "</table>\n",
       "</div>"
      ]
     },
     "execution_count": 54,
     "metadata": {},
     "output_type": "execute_result"
    }
   ],
   "source": [
    "import pandas\n",
    "  \n",
    "vectorizer = CountVectorizer(input='filename', min_df=1, stop_words='english')\n",
    "dtm = vectorizer.fit_transform(filenames)\n",
    "vocab = vectorizer.get_feature_names()\n",
    "\n",
    "from sklearn.metrics.pairwise import euclidean_distances\n",
    "dist = euclidean_distances(dtm)\n",
    "round_dist = np.round(dist, 1)\n",
    "print(round_dist)\n",
    "pandas.DataFrame(round_dist, filenames, filenames)"
   ]
  },
  {
   "cell_type": "code",
   "execution_count": 50,
   "metadata": {},
   "outputs": [
    {
     "data": {
      "text/html": [
       "<div>\n",
       "<table border=\"1\" class=\"dataframe\">\n",
       "  <thead>\n",
       "    <tr style=\"text-align: right;\">\n",
       "      <th></th>\n",
       "      <th>d1</th>\n",
       "      <th>d2</th>\n",
       "      <th>d3</th>\n",
       "    </tr>\n",
       "  </thead>\n",
       "  <tbody>\n",
       "    <tr>\n",
       "      <th>d1</th>\n",
       "      <td>0.0000</td>\n",
       "      <td>1.4142</td>\n",
       "      <td>2.8284</td>\n",
       "    </tr>\n",
       "    <tr>\n",
       "      <th>d2</th>\n",
       "      <td>1.4142</td>\n",
       "      <td>0.0000</td>\n",
       "      <td>1.4142</td>\n",
       "    </tr>\n",
       "    <tr>\n",
       "      <th>d3</th>\n",
       "      <td>2.8284</td>\n",
       "      <td>1.4142</td>\n",
       "      <td>0.0000</td>\n",
       "    </tr>\n",
       "  </tbody>\n",
       "</table>\n",
       "</div>"
      ],
      "text/plain": [
       "<div>\n",
       "<table border=\"1\" class=\"dataframe\">\n",
       "  <thead>\n",
       "    <tr style=\"text-align: right;\">\n",
       "      <th></th>\n",
       "      <th>d1</th>\n",
       "      <th>d2</th>\n",
       "      <th>d3</th>\n",
       "    </tr>\n",
       "  </thead>\n",
       "  <tbody>\n",
       "    <tr>\n",
       "      <th>d1</th>\n",
       "      <td>0.0000</td>\n",
       "      <td>1.4142</td>\n",
       "      <td>2.8284</td>\n",
       "    </tr>\n",
       "    <tr>\n",
       "      <th>d2</th>\n",
       "      <td>1.4142</td>\n",
       "      <td>0.0000</td>\n",
       "      <td>1.4142</td>\n",
       "    </tr>\n",
       "    <tr>\n",
       "      <th>d3</th>\n",
       "      <td>2.8284</td>\n",
       "      <td>1.4142</td>\n",
       "      <td>0.0000</td>\n",
       "    </tr>\n",
       "  </tbody>\n",
       "</table>\n",
       "</div>"
      ]
     },
     "execution_count": 50,
     "metadata": {},
     "output_type": "execute_result"
    }
   ],
   "source": [
    "X = [[0, 0],  # d1\n",
    "     [1, 1],  # d2\n",
    "     [2, 2]]  # d3\n",
    "\n",
    "d = euclidean_distances(X)\n",
    "d = np.round(d, 4)\n",
    "pandas.DataFrame(d, ['d1', 'd2', 'd3'], ['d1', 'd2', 'd3'])"
   ]
  },
  {
   "cell_type": "code",
   "execution_count": 53,
   "metadata": {},
   "outputs": [
    {
     "data": {
      "text/html": [
       "<div>\n",
       "<table border=\"1\" class=\"dataframe\">\n",
       "  <thead>\n",
       "    <tr style=\"text-align: right;\">\n",
       "      <th></th>\n",
       "      <th>data/Austen_Emma.txt</th>\n",
       "      <th>data/Austen_Pride.txt</th>\n",
       "      <th>data/Austen_Sense.txt</th>\n",
       "      <th>data/CBronte_Jane.txt</th>\n",
       "      <th>data/CBronte_Professor.txt</th>\n",
       "      <th>data/CBronte_Villette.txt</th>\n",
       "    </tr>\n",
       "  </thead>\n",
       "  <tbody>\n",
       "    <tr>\n",
       "      <th>data/Austen_Emma.txt</th>\n",
       "      <td>0.0000</td>\n",
       "      <td>0.3031</td>\n",
       "      <td>0.4099</td>\n",
       "      <td>0.3273</td>\n",
       "      <td>0.4642</td>\n",
       "      <td>0.4406</td>\n",
       "    </tr>\n",
       "    <tr>\n",
       "      <th>data/Austen_Pride.txt</th>\n",
       "      <td>0.3031</td>\n",
       "      <td>-0.0000</td>\n",
       "      <td>0.3970</td>\n",
       "      <td>0.3318</td>\n",
       "      <td>0.4556</td>\n",
       "      <td>0.4519</td>\n",
       "    </tr>\n",
       "    <tr>\n",
       "      <th>data/Austen_Sense.txt</th>\n",
       "      <td>0.4099</td>\n",
       "      <td>0.3970</td>\n",
       "      <td>0.0000</td>\n",
       "      <td>0.3925</td>\n",
       "      <td>0.4656</td>\n",
       "      <td>0.4180</td>\n",
       "    </tr>\n",
       "    <tr>\n",
       "      <th>data/CBronte_Jane.txt</th>\n",
       "      <td>0.3273</td>\n",
       "      <td>0.3318</td>\n",
       "      <td>0.3925</td>\n",
       "      <td>-0.0000</td>\n",
       "      <td>0.2057</td>\n",
       "      <td>0.1810</td>\n",
       "    </tr>\n",
       "    <tr>\n",
       "      <th>data/CBronte_Professor.txt</th>\n",
       "      <td>0.4642</td>\n",
       "      <td>0.4556</td>\n",
       "      <td>0.4656</td>\n",
       "      <td>0.2057</td>\n",
       "      <td>-0.0000</td>\n",
       "      <td>0.1676</td>\n",
       "    </tr>\n",
       "    <tr>\n",
       "      <th>data/CBronte_Villette.txt</th>\n",
       "      <td>0.4406</td>\n",
       "      <td>0.4519</td>\n",
       "      <td>0.4180</td>\n",
       "      <td>0.1810</td>\n",
       "      <td>0.1676</td>\n",
       "      <td>-0.0000</td>\n",
       "    </tr>\n",
       "  </tbody>\n",
       "</table>\n",
       "</div>"
      ],
      "text/plain": [
       "<div>\n",
       "<table border=\"1\" class=\"dataframe\">\n",
       "  <thead>\n",
       "    <tr style=\"text-align: right;\">\n",
       "      <th></th>\n",
       "      <th>data/Austen_Emma.txt</th>\n",
       "      <th>data/Austen_Pride.txt</th>\n",
       "      <th>data/Austen_Sense.txt</th>\n",
       "      <th>data/CBronte_Jane.txt</th>\n",
       "      <th>data/CBronte_Professor.txt</th>\n",
       "      <th>data/CBronte_Villette.txt</th>\n",
       "    </tr>\n",
       "  </thead>\n",
       "  <tbody>\n",
       "    <tr>\n",
       "      <th>data/Austen_Emma.txt</th>\n",
       "      <td>0.0000</td>\n",
       "      <td>0.3031</td>\n",
       "      <td>0.4099</td>\n",
       "      <td>0.3273</td>\n",
       "      <td>0.4642</td>\n",
       "      <td>0.4406</td>\n",
       "    </tr>\n",
       "    <tr>\n",
       "      <th>data/Austen_Pride.txt</th>\n",
       "      <td>0.3031</td>\n",
       "      <td>-0.0000</td>\n",
       "      <td>0.3970</td>\n",
       "      <td>0.3318</td>\n",
       "      <td>0.4556</td>\n",
       "      <td>0.4519</td>\n",
       "    </tr>\n",
       "    <tr>\n",
       "      <th>data/Austen_Sense.txt</th>\n",
       "      <td>0.4099</td>\n",
       "      <td>0.3970</td>\n",
       "      <td>0.0000</td>\n",
       "      <td>0.3925</td>\n",
       "      <td>0.4656</td>\n",
       "      <td>0.4180</td>\n",
       "    </tr>\n",
       "    <tr>\n",
       "      <th>data/CBronte_Jane.txt</th>\n",
       "      <td>0.3273</td>\n",
       "      <td>0.3318</td>\n",
       "      <td>0.3925</td>\n",
       "      <td>-0.0000</td>\n",
       "      <td>0.2057</td>\n",
       "      <td>0.1810</td>\n",
       "    </tr>\n",
       "    <tr>\n",
       "      <th>data/CBronte_Professor.txt</th>\n",
       "      <td>0.4642</td>\n",
       "      <td>0.4556</td>\n",
       "      <td>0.4656</td>\n",
       "      <td>0.2057</td>\n",
       "      <td>-0.0000</td>\n",
       "      <td>0.1676</td>\n",
       "    </tr>\n",
       "    <tr>\n",
       "      <th>data/CBronte_Villette.txt</th>\n",
       "      <td>0.4406</td>\n",
       "      <td>0.4519</td>\n",
       "      <td>0.4180</td>\n",
       "      <td>0.1810</td>\n",
       "      <td>0.1676</td>\n",
       "      <td>-0.0000</td>\n",
       "    </tr>\n",
       "  </tbody>\n",
       "</table>\n",
       "</div>"
      ]
     },
     "execution_count": 53,
     "metadata": {},
     "output_type": "execute_result"
    }
   ],
   "source": [
    "import pandas\n",
    "\n",
    "vectorizer = CountVectorizer(input='filename', min_df=1, stop_words='english')\n",
    "dtm = vectorizer.fit_transform(filenames)\n",
    "vocab = vectorizer.get_feature_names()\n",
    "\n",
    "from sklearn.metrics.pairwise import cosine_similarity\n",
    "\n",
    "# No debemos olvidar que el coseno es una medida de semejanza (w.r.t., distancia) que oscila entre 0 y 1.\n",
    "# Con el fin de obtener una medida de la distancia (o diferencia), tenemos que voltear la medida \n",
    "# de manera que, a mayor angulo mostremos un mayor valor.\n",
    "dist = 1 - cosine_similarity(dtm)  \n",
    "round_dist = np.round(dist, 4)\n",
    "pandas.DataFrame(round_dist, filenames, filenames)"
   ]
  },
  {
   "cell_type": "code",
   "execution_count": 56,
   "metadata": {},
   "outputs": [
    {
     "data": {
      "image/png": "[encoded data removed]",
      "text/plain": [
       "<matplotlib.figure.Figure at 0x7f34570a1710>"
      ]
     },
     "metadata": {},
     "output_type": "display_data"
    }
   ],
   "source": [
    "import pandas\n",
    "  \n",
    "vectorizer = CountVectorizer(input='filename', min_df=1, stop_words='english')\n",
    "dtm = vectorizer.fit_transform(filenames)\n",
    "vocab = vectorizer.get_feature_names()\n",
    "\n",
    "from sklearn.metrics.pairwise import cosine_similarity\n",
    "dist = 1- cosine_similarity(dtm)\n",
    "round_dist = np.round(dist, 4)\n",
    "# pandas.DataFrame(round_dist, filenames, filenames)\n",
    "\n",
    "import os\n",
    "import matplotlib.pyplot as plt\n",
    "from sklearn.manifold import MDS\n",
    "% matplotlib inline\n",
    "\n",
    "mds = MDS(n_components=2, dissimilarity=\"precomputed\", random_state=1)\n",
    "pos = mds.fit_transform(dist)\n",
    "\n",
    "xs, ys = pos[:, 0], pos[:, 1]\n",
    "names = [os.path.basename(fn).replace('.txt', '') for fn in filenames]\n",
    "for x, y, name in zip(xs, ys, names):\n",
    "    color = 'orange' if 'Austen' in name else 'skyblue'\n",
    "    plt.scatter(x, y, c=color)\n",
    "    plt.text(x, y, name)\n",
    "plt.axhline(0, color='black') #agregar linea eje X\n",
    "plt.axvline(0, color='black') #agregar linea eje Y\n",
    "plt.show()"
   ]
  },
  {
   "cell_type": "code",
   "execution_count": 10,
   "metadata": {},
   "outputs": [
    {
     "data": {
      "image/png": "[encoded data removed]",
      "text/plain": [
       "<matplotlib.figure.Figure at 0x1b3f0096080>"
      ]
     },
     "metadata": {},
     "output_type": "display_data"
    }
   ],
   "source": [
    "import pandas\n",
    "import numpy as np\n",
    "\n",
    "vectorizer = CountVectorizer(input='filename', min_df=1, stop_words='english')\n",
    "dtm = vectorizer.fit_transform(filenames)\n",
    "vocab = vectorizer.get_feature_names()\n",
    "\n",
    "from sklearn.metrics.pairwise import cosine_similarity\n",
    "dist = 1- cosine_similarity(dtm)\n",
    "round_dist = np.round(dist, 4)\n",
    "# pandas.DataFrame(round_dist, filenames, filenames)\n",
    "\n",
    "import os\n",
    "import matplotlib.pyplot as plt\n",
    "from sklearn.manifold import MDS\n",
    "% matplotlib inline\n",
    "\n",
    "mds = MDS(n_components=3, dissimilarity=\"precomputed\", random_state=1)\n",
    "pos = mds.fit_transform(dist)\n",
    "from mpl_toolkits.mplot3d import Axes3D\n",
    "fig = plt.figure(figsize=(16, 10))\n",
    "ax = fig.add_subplot(111, projection='3d')\n",
    "\n",
    "ax.scatter(pos[:, 0], pos[:, 1], pos[:, 2])\n",
    "names = [os.path.basename(fn).replace('.txt', '') for fn in filenames]\n",
    "for x, y, z, s in zip(pos[:, 0], pos[:, 1], pos[:, 2], names):\n",
    "    ax.text(x, y, z, s)\n",
    "\n",
    "ax.set_xlabel('x - axis')\n",
    "ax.set_ylabel('y - axis')\n",
    "ax.set_zlabel('z - axis')\n",
    "\n",
    "x = np.linspace(-0.3, 0.3)\n",
    "y = np.linspace(0, 0)\n",
    "z = np.linspace(0, 0)\n",
    "ax.plot(x, y, z)\n",
    "ax.plot(y, z, x)\n",
    "ax.plot(z, x, y)\n",
    "\n",
    "plt.show()"
   ]
  },
  {
   "cell_type": "code",
   "execution_count": null,
   "metadata": {},
   "outputs": [],
   "source": [
    ""
   ]
  },
  {
   "cell_type": "code",
   "execution_count": null,
   "metadata": {},
   "outputs": [],
   "source": [
    ""
   ]
  },
  {
   "cell_type": "code",
   "execution_count": null,
   "metadata": {},
   "outputs": [],
   "source": [
    ""
   ]
  },
  {
   "cell_type": "code",
   "execution_count": null,
   "metadata": {},
   "outputs": [],
   "source": [
    ""
   ]
  },
  {
   "cell_type": "code",
   "execution_count": null,
   "metadata": {},
   "outputs": [],
   "source": [
    ""
   ]
  },
  {
   "cell_type": "code",
   "execution_count": null,
   "metadata": {},
   "outputs": [],
   "source": [
    ""
   ]
  },
  {
   "cell_type": "code",
   "execution_count": null,
   "metadata": {},
   "outputs": [],
   "source": [
    ""
   ]
  },
  {
   "cell_type": "code",
   "execution_count": null,
   "metadata": {},
   "outputs": [],
   "source": [
    ""
   ]
  },
  {
   "cell_type": "code",
   "execution_count": null,
   "metadata": {},
   "outputs": [],
   "source": [
    ""
   ]
  }
 ],
 "metadata": {
  "kernelspec": {
   "display_name": "Python 2",
   "language": "python",
   "name": "python2"
  },
  "language_info": {
   "codemirror_mode": {
    "name": "ipython",
    "version": 2.0
   },
   "file_extension": ".py",
   "mimetype": "text/x-python",
   "name": "python",
   "nbconvert_exporter": "python",
   "pygments_lexer": "ipython2",
   "version": "2.7.6"
  }
 },
 "nbformat": 4,
 "nbformat_minor": 0
}