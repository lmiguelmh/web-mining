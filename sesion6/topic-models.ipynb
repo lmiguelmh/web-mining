{
 "cells": [
  {
   "cell_type": "code",
   "execution_count": 1,
   "metadata": {
    "collapsed": true
   },
   "outputs": [
    {
     "name": "stdout",
     "output_type": "stream",
     "text": [
      "813\n"
     ]
    }
   ],
   "source": [
    "import os\n",
    "CORPUS_PATH = os.path.join('data', 'austen-bronte-split')\n",
    "filenames = sorted([os.path.join(CORPUS_PATH, fn) for fn in os.listdir(CORPUS_PATH)])\n",
    "print(len(filenames))"
   ]
  },
  {
   "cell_type": "code",
   "execution_count": 2,
   "metadata": {},
   "outputs": [
    {
     "name": "stdout",
     "output_type": "stream",
     "text": [
      "813\n"
     ]
    },
    {
     "name": "stdout",
     "output_type": "stream",
     "text": [
      "[u'000' u'10' u'10th' ..., u'zornes' u'zschokke' u'zurueck']\n"
     ]
    }
   ],
   "source": [
    "import os\n",
    "CORPUS_PATH = os.path.join('data', 'austen-bronte-split')\n",
    "filenames = sorted([os.path.join(CORPUS_PATH, fn) for fn in os.listdir(CORPUS_PATH)])\n",
    "print(len(filenames))\n",
    "\n",
    "import numpy as np\n",
    "import sklearn.feature_extraction.text as text\n",
    "vectorizer = text.CountVectorizer(input='filename', stop_words='english', min_df=1)\n",
    "dtm = vectorizer.fit_transform(filenames).toarray()\n",
    "vocab = np.array(vectorizer.get_feature_names())\n",
    "print(vocab)"
   ]
  },
  {
   "cell_type": "code",
   "execution_count": 3,
   "metadata": {},
   "outputs": [
    {
     "name": "stdout",
     "output_type": "stream",
     "text": [
      "813\n"
     ]
    },
    {
     "name": "stdout",
     "output_type": "stream",
     "text": [
      "[u'000' u'10' u'10th' ..., u'zornes' u'zschokke' u'zurueck']\n"
     ]
    },
    {
     "name": "stdout",
     "output_type": "stream",
     "text": [
      "[[u'said', u'think', u'know', u'come', u'did', u'replied', u'tell', u'cried', u'looked', u'answer', u'man', u'let', u'better', u'asked', u'yes', u'eyes', u'thought', u'mean', u'wish', u'door'], [u'mr', u'elton', u'knightley', u'man', u'think', u'did', u'dear', u'young', u'great', u'evening', u'time', u'quite', u'woodhouse', u'long', u'day', u'saw', u'business', u'told', u'know', u'wickham'], [u'marianne', u'elinor', u'willoughby', u'sister', u'jennings', u'mother', u'colonel', u'dashwood', u'time', u'brandon', u'mrs', u'moment', u'soon', u'heart', u'barton', u'spirits', u'mind', u'away', u'little', u'day'], [u'elizabeth', u'darcy', u'mr', u'bingley', u'bennet', u'sister', u'collins', u'wickham', u'lady', u'soon', u'lydia', u'catherine', u'family', u'time', u'miss', u'little', u'room', u'friend', u'mother', u'lizzy'], [u'did', u'know', u'time', u'heart', u'felt', u'told', u'thought', u'look', u'day', u'knew', u'believe', u'think', u'saw', u'night', u'feelings', u'came', u'paul', u'letter', u'love', u'words'], [u'mrs', u'did', u'good', u'room', u'come', u'lady', u'day', u'quite', u'elton', u'said', u'time', u'jennings', u'thing', u'weston', u'came', u'party', u'house', u'palmer', u'daughter', u'colonel'], [u'jane', u'fairfax', u'love', u'oh', u'heart', u'little', u'think', u'heard', u'soon', u'mother', u'feel', u'voice', u'elton', u'campbell', u'god', u'come', u'bates', u'mrs', u'away', u'make'], [u'little', u'graham', u'bretton', u'papa', u'like', u'lucy', u'polly', u'dr', u'child', u'home', u'paulina', u'don', u'eyes', u'thought', u'think', u'bassompierre', u'father', u'snowe', u'old', u'look'], [u'john', u'st', u'dr', u'diana', u'mary', u'house', u'like', u'rivers', u'home', u'left', u'sisters', u'brother', u'dashwood', u'hannah', u'asked', u'way', u'mother', u'children', u'lady', u'middleton'], [u'edward', u'elinor', u'lucy', u'ferrars', u'dashwood', u'mother', u'sister', u'time', u'say', u'think', u'sure', u'brother', u'soon', u'thing', u'make', u'great', u'colonel', u'really', u'brandon', u'robert'], [u'madame', u'beck', u'little', u'knew', u'dr', u'door', u'paul', u'old', u'night', u'day', u'good', u'english', u'pupils', u'hand', u'like', u'thought', u'pelet', u'came', u'stood', u'emanuel'], [u'miss', u'woodhouse', u'bates', u'young', u'quite', u'sure', u'oh', u'fairfax', u'say', u'room', u'think', u'smith', u'temple', u'bessie', u'great', u'lady', u'heard', u'did', u'ladies', u'just'], [u'sir', u'shall', u'lady', u'yes', u'good', u'little', u'long', u'don', u'll', u'like', u'said', u'old', u'day', u'say', u'collins', u'did', u'better', u'room', u'come', u'life'], [u'like', u'long', u'day', u'night', u'room', u'door', u'time', u'house', u'saw', u'thought', u'looked', u'hour', u'eyes', u'felt', u'face', u'light', u'round', u'away', u'come', u'little'], [u'monsieur', u'little', u'mdlle', u'english', u'mademoiselle', u'vous', u'frances', u'est', u'pelet', u'said', u'hand', u'eyes', u'reuter', u'like', u'pupils', u'henri', u'looked', u'je', u'did', u'thought'], [u'rochester', u'mr', u'adele', u'fairfax', u'ingram', u'room', u'yes', u'hall', u'heard', u'said', u'mason', u'face', u'thornfield', u'eyes', u'like', u'looked', u'door', u'ladies', u'gentlemen', u'master'], [u'harriet', u'emma', u'elton', u'friend', u'mr', u'woodhouse', u'martin', u'thing', u'knightley', u'think', u'smith', u'little', u'mind', u'good', u'hartfield', u'miss', u'thought', u'moment', u'just', u'time'], [u'man', u'good', u'young', u'father', u'woman', u'life', u'years', u'love', u'think', u'make', u'thought', u'fortune', u'mind', u'sense', u'girl', u'old', u'mother', u'like', u'family', u'wife'], [u'know', u'shall', u'say', u'oh', u'dear', u'like', u'sure', u'thing', u'quite', u'letter', u'think', u'yes', u'said', u'good', u'tell', u'does', u'just', u'hear', u'believe', u'come'], [u'emma', u'weston', u'knightley', u'frank', u'churchill', u'thing', u'little', u'mr', u'father', u'mrs', u'fairfax', u'woodhouse', u'great', u'soon', u'time', u'body', u'hartfield', u'randalls', u'bates', u'highbury']]\n"
     ]
    }
   ],
   "source": [
    "import os\n",
    "CORPUS_PATH = os.path.join('data', 'austen-bronte-split')\n",
    "filenames = sorted([os.path.join(CORPUS_PATH, fn) for fn in os.listdir(CORPUS_PATH)])\n",
    "print(len(filenames))\n",
    "\n",
    "import numpy as np\n",
    "import sklearn.feature_extraction.text as text\n",
    "vectorizer = text.CountVectorizer(input='filename', stop_words='english', min_df=1)\n",
    "dtm = vectorizer.fit_transform(filenames).toarray()\n",
    "vocab = np.array(vectorizer.get_feature_names())\n",
    "print(vocab)\n",
    "\n",
    "from sklearn import decomposition\n",
    "num_topics = 20\n",
    "num_top_words = 20\n",
    "clf = decomposition.NMF(n_components=num_topics, random_state=1)\n",
    "doctopic = clf.fit_transform(dtm)\n",
    "topic_words = []\n",
    "# components_ : array-like, shape (n_components, n_features) Factorization matrix, sometimes called 'dictionary'.\n",
    "for topic in clf.components_:\n",
    "    # Returns the indices that would sort an array.\n",
    "    word_idx = np.argsort(topic)[::-1][0:num_top_words]\n",
    "    topic_words.append([vocab[i] for i in word_idx])\n",
    "doctopic = doctopic / np.sum(doctopic, axis=1, keepdims=True)\n",
    "print(topic_words)"
   ]
  },
  {
   "cell_type": "code",
   "execution_count": 4,
   "metadata": {},
   "outputs": [
    {
     "name": "stdout",
     "output_type": "stream",
     "text": [
      "Topic 0: said think know come did replied tell cried looked answer man let better asked yes\nTopic 1: mr elton knightley man think did dear young great evening time quite woodhouse long day\nTopic 2: marianne elinor willoughby sister jennings mother colonel dashwood time brandon mrs moment soon heart barton\nTopic 3: elizabeth darcy mr bingley bennet sister collins wickham lady soon lydia catherine family time miss\nTopic 4: did know time heart felt told thought look day knew believe think saw night feelings\nTopic 5: mrs did good room come lady day quite elton said time jennings thing weston came\nTopic 6: jane fairfax love oh heart little think heard soon mother feel voice elton campbell god\nTopic 7: little graham bretton papa like lucy polly dr child home paulina don eyes thought think\nTopic 8: john st dr diana mary house like rivers home left sisters brother dashwood hannah asked\nTopic 9: edward elinor lucy ferrars dashwood mother sister time say think sure brother soon thing make\nTopic 10: madame beck little knew dr door paul old night day good english pupils hand like\nTopic 11: miss woodhouse bates young quite sure oh fairfax say room think smith temple bessie great\nTopic 12: sir shall lady yes good little long don ll like said old day say collins\nTopic 13: like long day night room door time house saw thought looked hour eyes felt face\nTopic 14: monsieur little mdlle english mademoiselle vous frances est pelet said hand eyes reuter like pupils\nTopic 15: rochester mr adele fairfax ingram room yes hall heard said mason face thornfield eyes like\nTopic 16: harriet emma elton friend mr woodhouse martin thing knightley think smith little mind good hartfield\nTopic 17: man good young father woman life years love think make thought fortune mind sense girl\nTopic 18: know shall say oh dear like sure thing quite letter think yes said good tell\nTopic 19: emma weston knightley frank churchill thing little mr father mrs fairfax woodhouse great soon time\n"
     ]
    }
   ],
   "source": [
    "novel_names = []\n",
    "# generates the novel names according the file names (stripping the numbers) \n",
    "for fn in filenames:\n",
    "    basename = os.path.basename(fn)\n",
    "    name, ext = os.path.splitext(basename)\n",
    "    name = name.rstrip('0123456789')\n",
    "    novel_names.append(name)\n",
    "\n",
    "# \n",
    "novel_names = np.asarray(novel_names)\n",
    "doctopic_orig = doctopic.copy()\n",
    "num_groups = len(set(novel_names))\n",
    "doctopic_grouped = np.zeros((num_groups, num_topics))\n",
    "for i, name in enumerate(sorted(set(novel_names))):\n",
    "    doctopic_grouped[i, :] = np.mean(doctopic[novel_names == name, :], axis=0)\n",
    "doctopic = doctopic_grouped\n",
    "\n",
    "for t in range(len(topic_words)):\n",
    "    print(\"Topic {}: {}\".format(t, ' '.join(topic_words[t][:15])))"
   ]
  },
  {
   "cell_type": "code",
   "execution_count": 8,
   "metadata": {},
   "outputs": [
    {
     "name": "stdout",
     "output_type": "stream",
     "text": [
      "Austen_Emma: 19 1 16\nAusten_Pride: 3 1 18\nAusten_Sense: 2 9 5\nCBronte_Jane: 13 15 0\nCBronte_Professor: 14 13 17\nCBronte_Villette: 13 10 7\n"
     ]
    }
   ],
   "source": [
    "novels = sorted(set(novel_names))\n",
    "for i in range(len(doctopic)):\n",
    "    top_topics = np.argsort(doctopic[i,:])[::-1][0:3]\n",
    "    top_topics_str = ' '.join(str(t) for t in top_topics)\n",
    "    print(\"{}: {}\".format(novels[i], top_topics_str))"
   ]
  }
 ],
 "metadata": {
  "kernelspec": {
   "display_name": "Python 2",
   "language": "python",
   "name": "python2"
  },
  "language_info": {
   "codemirror_mode": {
    "name": "ipython",
    "version": 2.0
   },
   "file_extension": ".py",
   "mimetype": "text/x-python",
   "name": "python",
   "nbconvert_exporter": "python",
   "pygments_lexer": "ipython2",
   "version": "2.7.6"
  }
 },
 "nbformat": 4,
 "nbformat_minor": 0
}