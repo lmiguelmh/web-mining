{
 "cells": [
  {
   "cell_type": "code",
   "execution_count": 29,
   "metadata": {
    "collapsed": true
   },
   "outputs": [
    {
     "name": "stdout",
     "output_type": "stream",
     "text": [
      "total terms: 161979\ntotal unique terms: 7724\n"
     ]
    }
   ],
   "source": [
    "from nltk.tokenize import RegexpTokenizer\n",
    "import re\n",
    "import sys\n",
    "# f = open(sys.argv[1])\n",
    "f = open(\"Austen_Emma_copy.txt\")\n",
    "text = f.read()\n",
    "tokenizer = RegexpTokenizer(r'\\w+')\n",
    "tokens = tokenizer.tokenize(text)\n",
    "print \"total terms:\", len(tokens)\n",
    "print \"total unique terms:\", len(set(tokens))"
   ]
  },
  {
   "cell_type": "code",
   "execution_count": 28,
   "metadata": {},
   "outputs": [
    {
     "name": "stdout",
     "output_type": "stream",
     "text": [
      "terms: 1039\nunique terms: 114\n"
     ]
    }
   ],
   "source": [
    "tokenizer = RegexpTokenizer(r'^[hH]\\w+')\n",
    "tokens = tokenizer.tokenize(text)\n",
    "print \"terms:\", len(tokens)\n",
    "print \"unique terms:\", len(set(tokens))"
   ]
  },
  {
   "cell_type": "code",
   "execution_count": 22,
   "metadata": {},
   "outputs": [
    {
     "name": "stdout",
     "output_type": "stream",
     "text": [
      "terms for regex ' ^[hH]\\w+ ': 1039\n"
     ]
    }
   ],
   "source": [
    "print \"terms for regex '\", tokenizer._pattern,\"':\", len(tokens)"
   ]
  },
  {
   "cell_type": "code",
   "execution_count": null,
   "metadata": {},
   "outputs": [],
   "source": [
    ""
   ]
  }
 ],
 "metadata": {
  "kernelspec": {
   "display_name": "Python 2",
   "language": "python",
   "name": "python2"
  },
  "language_info": {
   "codemirror_mode": {
    "name": "ipython",
    "version": 2.0
   },
   "file_extension": ".py",
   "mimetype": "text/x-python",
   "name": "python",
   "nbconvert_exporter": "python",
   "pygments_lexer": "ipython2",
   "version": "2.7.6"
  }
 },
 "nbformat": 4,
 "nbformat_minor": 0
}