{
 "cells": [
  {
   "cell_type": "code",
   "execution_count": 33,
   "metadata": {
    "collapsed": true
   },
   "outputs": [
    {
     "name": "stdout",
     "output_type": "stream",
     "text": [
      "tokens: 79357\nunique tokens: 16856\n"
     ]
    }
   ],
   "source": [
    "from nltk.tokenize import RegexpTokenizer, WhitespaceTokenizer\n",
    "from nltk.stem import PorterStemmer, LancasterStemmer, WordNetLemmatizer\n",
    "from nltk.corpus import stopwords\n",
    "f = open(\"Austen_Emma_copy.txt\")\n",
    "text = f.read()\n",
    "\n",
    "# Tokenizing\n",
    "# ----------\n",
    "# \n",
    "tokenizer = WhitespaceTokenizer()\n",
    "tokens = tokenizer.tokenize(text)\n",
    "tokens = [t.lower() for t in tokens]\n",
    "\n",
    "# Normalization and stop words\n",
    "# ----------------------------\n",
    "# El diccionario contiene las palabras en su forma original, \n",
    "# por lo tanto lo siguiente no es necesario: \n",
    "# \n",
    "# lemmatizer = WordNetLemmatizer()\n",
    "# tokens = [lemmatizer.lemmatize(t) for t in tokens]\n",
    "# stemmer = LancasterStemmer()\n",
    "# tokens = [stemmer.stem(t) for t in tokens]\n",
    "#\n",
    "stop_words = stopwords.words('english') \n",
    "tokens = [word for word in tokens if word not in stop_words]\n",
    "print \"tokens:\", len(tokens)\n",
    "print \"unique tokens:\", len(set(tokens))"
   ]
  },
  {
   "cell_type": "code",
   "execution_count": 24,
   "metadata": {},
   "outputs": [
    {
     "name": "stdout",
     "output_type": "stream",
     "text": [
      "['2-faced', '2-faces', 'abnormal', 'abolish', 'abominable', 'abominably', 'abominate', 'abomination', 'abort', 'aborted'] ...\n"
     ]
    }
   ],
   "source": [
    "negatives = open(\"negative-words.txt\").read()\n",
    "neg_tokens = tokenizer.tokenize(negatives)\n",
    "neg_tokens = [t.lower() for t in neg_tokens]\n",
    "print neg_tokens[0:10], \"...\""
   ]
  },
  {
   "cell_type": "code",
   "execution_count": 25,
   "metadata": {},
   "outputs": [
    {
     "name": "stdout",
     "output_type": "stream",
     "text": [
      "['a+', 'abound', 'abounds', 'abundance', 'abundant', 'accessable', 'accessible', 'acclaim', 'acclaimed', 'acclamation'] ...\n"
     ]
    }
   ],
   "source": [
    "positives = open(\"positive-words.txt\").read()\n",
    "pos_tokens = tokenizer.tokenize(positives)\n",
    "pos_tokens = [t.lower() for t in pos_tokens]\n",
    "print pos_tokens[0:10], \"...\""
   ]
  },
  {
   "cell_type": "code",
   "execution_count": 32,
   "metadata": {},
   "outputs": [
    {
     "name": "stdout",
     "output_type": "stream",
     "text": [
      "positive tokens: 5058\nnegative tokens: 3438\n\nlog positive tokens: 8.52872642723\nlog negative tokens: 8.14264518594\n\ntext has a positive polarity\n"
     ]
    }
   ],
   "source": [
    "import numpy as np\n",
    "pos_tokens_count = 0\n",
    "neg_tokens_count = 0\n",
    "for word in tokens:\n",
    "    if word in pos_tokens:\n",
    "        pos_tokens_count += 1\n",
    "    elif word in neg_tokens:\n",
    "        neg_tokens_count += 1\n",
    "\n",
    "print \"positive tokens:\", (pos_tokens_count)\n",
    "print \"negative tokens:\", (neg_tokens_count)\n",
    "print \n",
    "print \"log positive tokens:\", np.log(pos_tokens_count)\n",
    "print \"log negative tokens:\", np.log(neg_tokens_count)\n",
    "print \n",
    "\n",
    "if np.log(pos_tokens_count) > np.log(neg_tokens_count):\n",
    "    print \"text has a POSITIVE polarity\"\n",
    "else:\n",
    "    print \"text has a NEGATIVE polarity\""
   ]
  }
 ],
 "metadata": {
  "kernelspec": {
   "display_name": "Python 2",
   "language": "python",
   "name": "python2"
  },
  "language_info": {
   "codemirror_mode": {
    "name": "ipython",
    "version": 2.0
   },
   "file_extension": ".py",
   "mimetype": "text/x-python",
   "name": "python",
   "nbconvert_exporter": "python",
   "pygments_lexer": "ipython2",
   "version": "2.7.6"
  }
 },
 "nbformat": 4,
 "nbformat_minor": 0
}