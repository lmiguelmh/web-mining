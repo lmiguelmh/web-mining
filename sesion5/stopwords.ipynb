{
 "cells": [
  {
   "cell_type": "code",
   "execution_count": 19,
   "metadata": {
    "collapsed": true
   },
   "outputs": [
    {
     "name": "stdout",
     "output_type": "stream",
     "text": [
      "terms for regex ' ^[hH]\\w+ ': 1039\n"
     ]
    }
   ],
   "source": [
    "from nltk.tokenize import RegexpTokenizer\n",
    "f = open(\"Austen_Emma_copy.txt\")\n",
    "text = f.read()\n",
    "tokenizer = RegexpTokenizer(r'^[hH]\\w+')\n",
    "tokens = tokenizer.tokenize(text)\n",
    "print \"terms for regex '\", tokenizer._pattern,\"':\", len(tokens)"
   ]
  },
  {
   "cell_type": "code",
   "execution_count": 20,
   "metadata": {},
   "outputs": [
    {
     "name": "stdout",
     "output_type": "stream",
     "text": [
      "unique tokens: 114\nunique tokens_low: 103\ndifferences:  set(['Henceforward', 'Hawkins', 'His', 'Her', 'Humph', 'Happily', 'Hartfield', 'Highbury', 'Had', 'However', 'Here', 'High', 'How', 'Hodges', 'Human', 'Henry', 'Harriet', 'He', 'Having', 'Hill'])\n"
     ]
    }
   ],
   "source": [
    "tokens_low = []\n",
    "for word in tokens:\n",
    "    tokens_low.append(word.lower())\n",
    "\n",
    "print \"unique tokens:\", len(set(tokens))\n",
    "print \"unique tokens_low:\", len(set(tokens_low))\n",
    "print \"differences: \", (set(tokens) - set(tokens_low))"
   ]
  },
  {
   "cell_type": "code",
   "execution_count": 21,
   "metadata": {},
   "outputs": [
    {
     "name": "stdout",
     "output_type": "stream",
     "text": [
      "['help', 'hands', 'horseback', 'human', 'happiness', 'hypocrisy', 'heedlessness', 'had', 'hereabouts', 'honoured', 'handsome', 'hope', 'happened', 'horror', 'hodges', 'half', 'hindered', 'hitherto', 'him', 'humph', 'housekeeper', 'hartfield', 'habits', 'harriet', 'husband', 'heavy', 'habit', 'house', 'hard', 'hurried', 'hair', 'honourable', 'home', 'happen', 'hesitation', 'health', 'hill', 'henceforward', 'honour', 'hurrying', 'however', 'here', 'hours', 'houses', 'hospitable', 'harshly', 'handsomest', 'hearing', 'haunts', 'honest', 'hence', 'hospitality', 'humour', 'humility', 'highly', 'heated', 'hawkins', 'honourably', 'hundred', 'hardly', 'headache', 'horses', 'head', 'himself', 'happily', 'highbury', 'hoped', 'hear', 'hesitated', 'hopes', 'hurry', 'herself', 'has', 'hour', 'hesitating', 'henry', 'handwriting', 'happy', 'history', 'heart', 'hotter', 'hoping', 'horsewoman', 'high', 'heard', 'have', 'hesitate', 'holds', 'handed', 'how', 'higher', 'heir', 'hand', 'husbands', 'hurt', 'hardships', 'hungry', 'hearts', 'having']\n99\n"
     ]
    }
   ],
   "source": [
    "stop_words = ['he', 'his', 'hers', 'her']\n",
    "tokens_low_without_stop_words = []\n",
    "for word in set(tokens_low):\n",
    "    if word not in stop_words:\n",
    "        tokens_low_without_stop_words.append(word)\n",
    "\n",
    "print tokens_low_without_stop_words\n",
    "print len(tokens_low_without_stop_words)"
   ]
  },
  {
   "cell_type": "code",
   "execution_count": null,
   "metadata": {},
   "outputs": [],
   "source": [
    ""
   ]
  }
 ],
 "metadata": {
  "kernelspec": {
   "display_name": "Python 2",
   "language": "python",
   "name": "python2"
  },
  "language_info": {
   "codemirror_mode": {
    "name": "ipython",
    "version": 2.0
   },
   "file_extension": ".py",
   "mimetype": "text/x-python",
   "name": "python",
   "nbconvert_exporter": "python",
   "pygments_lexer": "ipython2",
   "version": "2.7.6"
  }
 },
 "nbformat": 4,
 "nbformat_minor": 0
}