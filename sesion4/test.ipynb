{
 "cells": [
  {
   "cell_type": "code",
   "execution_count": 8,
   "metadata": {
    "collapsed": true
   },
   "outputs": [
    {
     "name": "stdout",
     "output_type": "stream",
     "text": [
      "ok\n"
     ]
    }
   ],
   "source": [
    "import nltk\n",
    "from nltk.stem import PorterStemmer, WordNetLemmatizer\n",
    "stemmer = PorterStemmer()\n",
    "lemmatiser = WordNetLemmatizer()\n",
    "lancaster = nltk.stem.lancaster.LancasterStemmer()\n",
    "snowball = nltk.SnowballStemmer('english')\n",
    "print(\"ok\")"
   ]
  },
  {
   "cell_type": "code",
   "execution_count": 9,
   "metadata": {},
   "outputs": [
    {
     "name": "stdout",
     "output_type": "stream",
     "text": [
      "studi\nstudying\nchildren\nchild\n"
     ]
    }
   ],
   "source": [
    "print stemmer.stem(\"studying\")\n",
    "print lemmatiser.lemmatize(\"studying\")\n",
    "print stemmer.stem(\"children\")\n",
    "print lemmatiser.lemmatize(\"children\")"
   ]
  },
  {
   "cell_type": "code",
   "execution_count": 17,
   "metadata": {},
   "outputs": [
    {
     "name": "stdout",
     "output_type": "stream",
     "text": [
      "feet\nfoot\n"
     ]
    }
   ],
   "source": [
    "word = \"feet\" \n",
    "print stemmer.stem(word)\n",
    "print lemmatiser.lemmatize(word)"
   ]
  },
  {
   "cell_type": "code",
   "execution_count": 16,
   "metadata": {},
   "outputs": [
    {
     "name": "stdout",
     "output_type": "stream",
     "text": [
      "foot\nfoot\n"
     ]
    }
   ],
   "source": [
    "word = \"foots\" \n",
    "print stemmer.stem(word)\n",
    "print lemmatiser.lemmatize(word)"
   ]
  },
  {
   "cell_type": "code",
   "execution_count": 20,
   "metadata": {},
   "outputs": [
    {
     "name": "stdout",
     "output_type": "stream",
     "text": [
      "car'\ncar's\n"
     ]
    }
   ],
   "source": [
    "word = \"car's\" \n",
    "print stemmer.stem(word)\n",
    "print lemmatiser.lemmatize(word)"
   ]
  },
  {
   "cell_type": "code",
   "execution_count": 30,
   "metadata": {},
   "outputs": [],
   "source": [
    "word = \"dry\" \n",
    "print stemmer.stem(\"\"+word)\n",
    "print lemmatiser.lemmatize(\"\"+word)"
   ]
  },
  {
   "cell_type": "code",
   "execution_count": 3,
   "metadata": {},
   "outputs": [
    {
     "name": "stdout",
     "output_type": "stream",
     "text": [
      "oper\noperate\noper\noperating\noper\noperates\noper\noperation\noper\noperative\noper\noperative\noper\noperational\n"
     ]
    }
   ],
   "source": [
    "words = [\"operate\", \"operating\", \"operates\", \"operation\", \"operative\", \"operatives\", \"operational\"]\n",
    "for word in words:\n",
    "    print stemmer.stem(\"\"+word)\n",
    "    print lemmatiser.lemmatize(\"\"+word)"
   ]
  },
  {
   "cell_type": "code",
   "execution_count": 9,
   "metadata": {},
   "outputs": [
    {
     "name": "stdout",
     "output_type": "stream",
     "text": [
      "car'\ncar's\ncar's\ncar\n"
     ]
    }
   ],
   "source": [
    "word = \"car's\" \n",
    "print stemmer.stem(word)\n",
    "print lemmatiser.lemmatize(word)\n",
    "print lancaster.stem(word)\n",
    "print snowball.stem(word)"
   ]
  },
  {
   "cell_type": "code",
   "execution_count": 10,
   "metadata": {},
   "outputs": [
    {
     "name": "stdout",
     "output_type": "stream",
     "text": [
      "are\nbe\n"
     ]
    }
   ],
   "source": [
    "print lemmatiser.lemmatize(\"are\")\n",
    "print lemmatiser.lemmatize(\"are\", pos='v')"
   ]
  },
  {
   "cell_type": "code",
   "execution_count": null,
   "metadata": {},
   "outputs": [],
   "source": [
    ""
   ]
  },
  {
   "cell_type": "code",
   "execution_count": null,
   "metadata": {},
   "outputs": [],
   "source": [
    ""
   ]
  },
  {
   "cell_type": "code",
   "execution_count": null,
   "metadata": {},
   "outputs": [],
   "source": [
    ""
   ]
  },
  {
   "cell_type": "code",
   "execution_count": null,
   "metadata": {},
   "outputs": [],
   "source": [
    ""
   ]
  },
  {
   "cell_type": "code",
   "execution_count": null,
   "metadata": {},
   "outputs": [],
   "source": [
    ""
   ]
  },
  {
   "cell_type": "code",
   "execution_count": null,
   "metadata": {},
   "outputs": [],
   "source": [
    ""
   ]
  }
 ],
 "metadata": {
  "kernelspec": {
   "display_name": "Python 2",
   "language": "python",
   "name": "python2"
  },
  "language_info": {
   "codemirror_mode": {
    "name": "ipython",
    "version": 2.0
   },
   "file_extension": ".py",
   "mimetype": "text/x-python",
   "name": "python",
   "nbconvert_exporter": "python",
   "pygments_lexer": "ipython2",
   "version": "2.7.6"
  }
 },
 "nbformat": 4,
 "nbformat_minor": 0
}