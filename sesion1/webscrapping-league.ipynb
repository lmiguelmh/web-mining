{
 "cells": [
  {
   "cell_type": "code",
   "execution_count": 10,
   "metadata": {
    "collapsed": true
   },
   "outputs": [],
   "source": [
    "import requests\n",
    "url = \"http://www.ligue1.com/ligue1/classement\"\n",
    "page = requests.get(url)\n",
    "html = page.content"
   ]
  },
  {
   "cell_type": "code",
   "execution_count": 12,
   "metadata": {},
   "outputs": [
    {
     "name": "stdout",
     "output_type": "stream",
     "text": [
      "Position Evolution Team Pld W D L F A GD Pts\n1 AS Monaco 4 3 1 0 10 4 +6 10\n2 OGC Nice 4 3 1 0 6 3 +3 10\n3 FC Metz 4 3 0 1 8 5 +3 9\n4 Girondins de Bordeaux 4 3 0 1 8 7 +1 9\n5 EA Guingamp 4 2 2 0 7 4 +3 8\n6 Stade Rennais FC 4 2 1 1 5 2 +3 7\n7 Paris Saint-Germain 4 2 1 1 6 4 +2 7\n8 Olympique Lyonnais 4 2 0 2 8 7 +1 6\n9 SC Bastia 4 2 0 2 5 4 +1 6\n10 SM Caen 4 2 0 2 5 6 -1 6\n11 Toulouse FC 4 1 2 1 5 3 +2 5\n12 AS Saint-Etienne 4 1 2 1 6 5 +1 5\n13 Montpellier Hérault SC 4 1 2 1 4 5 -1 5\n14 Olympique de Marseille 4 1 1 2 5 5 0 4\n15 LOSC 4 1 1 2 5 8 -3 4\n16 Dijon FCO 4 1 0 3 5 7 -2 3\n17 Angers SCO 4 1 0 3 3 5 -2 3\n18 FC Nantes 4 1 0 3 1 5 -4 3\n19 AS Nancy Lorraine 4 1 0 3 2 7 -5 3\n20 FC Lorient 4 0 0 4 2 10 -8 0\n"
     ]
    }
   ],
   "source": [
    "from bs4 import BeautifulSoup\n",
    "soup = BeautifulSoup(html, \"lxml\")\n",
    "table = soup.find('table')\n",
    "for row in table.findAll('tr'):\n",
    "    for cell in row.findAll(['td','th']):\n",
    "        if cell.text != '': \n",
    "            print cell.text.strip(),\n",
    "    print"
   ]
  }
 ],
 "metadata": {
  "kernelspec": {
   "display_name": "Python 2",
   "language": "python",
   "name": "python2"
  },
  "language_info": {
   "codemirror_mode": {
    "name": "ipython",
    "version": 2.0
   },
   "file_extension": ".py",
   "mimetype": "text/x-python",
   "name": "python",
   "nbconvert_exporter": "python",
   "pygments_lexer": "ipython2",
   "version": "2.7.6"
  }
 },
 "nbformat": 4,
 "nbformat_minor": 0
}