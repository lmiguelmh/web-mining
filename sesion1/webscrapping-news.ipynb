{
 "cells": [
  {
   "cell_type": "code",
   "execution_count": 1,
   "metadata": {
    "collapsed": true
   },
   "outputs": [],
   "source": [
    "import scraperwiki\n",
    "from lxml import html\n",
    "url = \"http://www-news.iaea.org/EventList.aspx\"\n",
    "doc_text = scraperwiki.scrape(url, user_agent=\"Mozilla/5.0 (X11; Ubuntu; Linux x86_64; rv:48.0) Gecko/20100101 Firefox/48.0\")\n",
    "doc = html.fromstring(doc_text)"
   ]
  },
  {
   "cell_type": "code",
   "execution_count": 4,
   "metadata": {},
   "outputs": [
    {
     "name": "stdout",
     "output_type": "stream",
     "text": [
      "Loss of a device containing radioactive sources\nOn the 25th of August 2016 the lack of two density gauges containing a category 5 radioactive source each (Am-241 activities 240 MBq and 185 MBq) was discovered at a former barite mining facility. The gauges were not in use and were to be disposed of.  The gauges were supposedly stolen but the...\n\nOverexposure to Radiographer\nDuring the performance of industrial radiography, the licensee radiographer taped the radiography camera’s guide tube to a jig in preparation for an exposure shot.  During the exposure shot, the guide tube fell and the radiographer re-taped it to the jig without first retracting the source back...\n\nA sealed radioactive Cs-137 source contaminated the premises of waste management company\nEvent Abstract:\r\nA sealed radioactive Cs-137 source contaminated the premises of waste management company and also the neighboring rooms used by Finnish Radiation and Nuclear Safety Authority (STUK). The event was found out on 7 March 2016.\r\n\r\nThe source, activity presently 360 MBq, had been used...\n\nLeakage from Piping Transferring RO-Concentrated Water to G-6 Tank Area\nAround 19:20 on 20 April 2016, TEPCO found that RO-concentrated water was leaking from a heat-insulating material of transfer piping to G-6 tank area.\r\nExtent of soil contaminated by leakage was about 30 cm × 30 cm. \r\nThe leak was stopped after shut down of transferring RO-concentrated water.\r\nThe...\n\nLeak from primary coolant system at Kakrapar Atomic Station-1\nOn March 11, 2016, Kakrapar-1 was operating at 220 MWe. At about 0852 hrs, primary containment (pump room) pressure high alarm appeared in control room. Both fast acting reactor shutdown systems and liquid poison injection system actuated automatically and brought the reactor to long term...\n\nRadiographer Overexposure\nOn September 08, 2015, Nuclear Regulatory Authority (ARN) was informed about a radiological incident during industrial radiography of a boiler´s manifold in the Thermoelectric Power Station, located in Río Turbio, Santa Cruz. \r\n\r\nTwo workers were exposed to a radiation field of 1.62 TBq (44 Ci) of...\n\nWorker Overexposure\nDuring an inspection in January 2016, the State of Florida noted that one of the licensee's employees working with a particle accelerator had exceeded the 50 mSv (5 rem) worker exposure limit for 2015 (overexposure nominally was 52 mSv (5.2 rem)).  This employee also had nine high exposure...\n\nOverexposure to Radiographer\nAfter performing a radiograph, the radiographer believed he had cranked the source back inside the camera.  However, when he went to retrieve the film, he noticed that his survey meter was reading off-scale, and then he noticed that his pocket dosimeter also read off-scale.  The radiographer’s...\n\nOverexposure of two industrial radiographers\nTwo industrial radiographers who were involved in an oil refinery projects, overexposed by Gamma radiation of Ir-92, 35 Ci. On 23/09/2015, one of the radiographers dismantled the guide tube without noticing that the source/holder was detached and stocked in the guide tube due to not having survey...\n\nIrradiation of a worker during scheduled NNP outage at Le Blayais\nOn 21st August 2015, ASN was informed by EDF of the accidental exposure of a worker from an EDF contractor to a dose of ionising radiation exceeding the regulation limit.\r\n\r\nOn 18th August, during the check carried out prior to exiting the limited access area, contamination was detected on the...\n\n"
     ]
    }
   ],
   "source": [
    "for row in doc.cssselect(\"#tblEvents tr\"):\n",
    "    link_in_header = row.cssselect(\"h4 a\").pop()\n",
    "    event_title = link_in_header.text\n",
    "    print event_title.strip()\n",
    "    \n",
    "    description = row.cssselect(\"p\").pop()\n",
    "    print description.text.strip()\n",
    "    print "
   ]
  },
  {
   "cell_type": "code",
   "execution_count": null,
   "metadata": {},
   "outputs": [],
   "source": [
    ""
   ]
  }
 ],
 "metadata": {
  "kernelspec": {
   "display_name": "Python 2",
   "language": "python",
   "name": "python2"
  },
  "language_info": {
   "codemirror_mode": {
    "name": "ipython",
    "version": 2.0
   },
   "file_extension": ".py",
   "mimetype": "text/x-python",
   "name": "python",
   "nbconvert_exporter": "python",
   "pygments_lexer": "ipython2",
   "version": "2.7.6"
  }
 },
 "nbformat": 4,
 "nbformat_minor": 0
}